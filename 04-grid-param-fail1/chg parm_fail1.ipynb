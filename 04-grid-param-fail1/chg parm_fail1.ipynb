{
 "metadata": {
  "name": "chg parm_fail1"
 }, 
 "nbformat": 2, 
 "worksheets": [
  {
   "cells": [
    {
     "cell_type": "code", 
     "collapsed": false, 
     "input": [
      "%pylab inline", 
      "import numpy as np", 
      "import matplotlib.pyplot as plt", 
      "BINS = 11", 
      "#############################################", 
      "#                                           #", 
      "#            Loading data file              #", 
      "#                                           #", 
      "#############################################", 
      "data = np.loadtxt(", 
      "                  #'/home/flgomez10/lum-mass/data/MD_3840_Planck1/BDM/test.dat',", 
      "                  '/home/flgomez10/lum-mass/data/MD_3840_Planck1/BDM/reduced_catshortV_007.dat',", 
      "                  # Reduce the memory usage from 'float64'(default) to 'float32'", 
      "                  #'float32',", 
      "                  usecols=(0,1,2,3), skiprows=17)", 
      "# To create a little test catalog", 
      "# use the command \"head\" in terminal to append ", 
      "# just a few lines from the original catalog", 
      "# $ head -n10000 file.txt >> newfile.txt"
     ], 
     "language": "python", 
     "outputs": [
      {
       "output_type": "stream", 
       "stream": "stdout", 
       "text": [
        "", 
        "Welcome to pylab, a matplotlib-based Python environment [backend: module://IPython.zmq.pylab.backend_inline].", 
        "For more information, type 'help(pylab)'."
       ]
      }
     ], 
     "prompt_number": 1
    }, 
    {
     "cell_type": "code", 
     "collapsed": true, 
     "input": [
      "#############################################", 
      "#                                           #", 
      "#            Halo Mass Function             #", 
      "#                                           #", 
      "#############################################", 
      "M_halos_list = np.log10(data[:,3])", 
      "M_min = np.amin(M_halos_list)", 
      "M_max = np.amax(M_halos_list)", 
      "", 
      "bins_mass = np.linspace( M_min, M_max, BINS )", 
      "N_halos = np.zeros(BINS)", 
      "", 
      "for i in range( BINS-1 ):", 
      "    index = np.where((bins_mass[i]  <= M_halos_list)&", 
      "                     (bins_mass[i+1] > M_halos_list))", 
      "    N_halos[i] = index[0].size", 
      "    ", 
      "M_BIN_width = (M_max - M_min)/BINS", 
      "CELL_volume = 1e+9", 
      "N_halos_norm = N_halos / ( CELL_volume * M_BIN_width)    ", 
      "", 
      "N_halos_norm[0]=0"
     ], 
     "language": "python", 
     "outputs": [], 
     "prompt_number": 4
    }, 
    {
     "cell_type": "code", 
     "collapsed": false, 
     "input": [
      "# Plotting Mass Density Function", 
      "", 
      "plt.semilogy(bins_mass, N_halos_norm)", 
      "plt.title(\"Mass Density Function\")", 
      "plt.xlabel(r\"$\\log_{10} M_\\odot$\")", 
      "plt.ylabel(r\"$\\log \\frac{dM}{dN}\\left( Mpc^3 h^{-1} \\right)$\")", 
      "", 
      "#plt.show()"
     ], 
     "language": "python", 
     "outputs": [
      {
       "output_type": "pyout", 
       "prompt_number": 5, 
       "text": [
        "<matplotlib.text.Text at 0xa97be810>"
       ]
      }, 
      {
       "output_type": "display_data", 
       "png": "[encoded data removed]"
      }
     ], 
     "prompt_number": 5
    }, 
    {
     "cell_type": "code", 
     "collapsed": false, 
     "input": [
      "#############################################", 
      "#                                           #", 
      "#           Luminosity Function             #", 
      "#                                           #", 
      "#############################################", 
      "alpha = 1.0", 
      "beta  = 1.0", 
      "# $L = \\alpha * Halo_Mass ^ { \\beta}$", 
      "# Luminosity units: Sun Luminosity = $L_{\\odot}$", 
      "Log_Luminosity_halo_list = np.log10(alpha) + beta*M_halos_list ", 
      "", 
      "# $ Mag_{UV} = 5.61 - 2.5 * \\log ( L / L_\\odot )", 
      "Magnitude_UV_galaxy_list = 5.61 - 2.5 *  Log_Luminosity_halo_list[:] ", 
      "", 
      "Magnitude_min = np.amin(Magnitude_UV_galaxy_list)", 
      "Magnitude_max = np.amax(Magnitude_UV_galaxy_list)", 
      "Magnitude_BIN_width = (Magnitude_max - Magnitude_min)/BINS", 
      "", 
      "bins_mag = np.linspace( Magnitude_min, Magnitude_max, BINS )", 
      "N_Magnitude = np.zeros(BINS)", 
      "", 
      "for i in range( BINS-1 ):", 
      "    index = np.where((bins_mag[i]  <= Magnitude_UV_galaxy_list)&", 
      "                     (bins_mag[i+1] > Magnitude_UV_galaxy_list))", 
      "    N_Magnitude[i] = index[0].size", 
      "", 
      "N_Magnitude_norm = N_Magnitude / ( CELL_volume * Magnitude_BIN_width )", 
      "", 
      "#Observational data", 
      "Obs_data = np.array([", 
      "                     [-22.5,2.66E-8,9.08E-9,7.78E-8],", 
      "                     [-22.0,2.18E-6,8.70E-7,9.70E-6],", 
      "                     [-21.5,1.45E-5,2.88E-6,2.92E-5],", 
      "                     [-21.0,1.29E-4,7.06E-5,2.19E-4],", 
      "                     [-20.5,2.30E-4,9.34E-5,5.77E-4]", 
      "                    ])", 
      "", 
      "# Plotting Luminosity Function", 
      "# with observational data", 
      "plt.errorbar(Obs_data[:,0],Obs_data[:,1], Obs_data[:,2],Obs_data[:,3], label='Observational Data')", 
      "plt.semilogy(bins_mag,N_Magnitude_norm)", 
      "plt.title(\"Luminosity Function\")", 
      "plt.xlabel(\"Magnitude\")", 
      "plt.ylabel(r\"$\\log \\frac{dL}{dMag} $\")", 
      "", 
      "#plt.show()"
     ], 
     "language": "python", 
     "outputs": [
      {
       "output_type": "pyout", 
       "prompt_number": 6, 
       "text": [
        "<matplotlib.text.Text at 0xa72eee50>"
       ]
      }, 
      {
       "output_type": "display_data", 
       "png": "[encoded data removed]"
      }
     ], 
     "prompt_number": 6
    }, 
    {
     "cell_type": "code", 
     "collapsed": false, 
     "input": [
      "alpha = 6.8e4", 
      "beta  = 0.5", 
      "# $L = \\alpha * Halo_Mass ^ { \\beta}$", 
      "# Luminosity units: Sun Luminosity = $L_{\\odot}$", 
      "Log_Luminosity_halo_list = np.log10(alpha) + beta*M_halos_list ", 
      "", 
      "# $ Mag_{UV} = 5.61 - 2.5 * \\log ( L / L_\\odot )", 
      "Magnitude_UV_galaxy_list = 5.61 - 2.5 *  Log_Luminosity_halo_list[:] ", 
      "", 
      "Magnitude_min = np.amin(Magnitude_UV_galaxy_list)", 
      "Magnitude_max = np.amax(Magnitude_UV_galaxy_list)", 
      "Magnitude_BIN_width = (Magnitude_max - Magnitude_min)/BINS", 
      "", 
      "bins_mag = np.linspace( Magnitude_min, Magnitude_max, BINS )", 
      "N_Magnitude = np.zeros(BINS)", 
      "", 
      "for i in range( BINS-1 ):", 
      "    index = np.where((bins_mag[i]  <= Magnitude_UV_galaxy_list)&", 
      "                     (bins_mag[i+1] > Magnitude_UV_galaxy_list))", 
      "    N_Magnitude[i] = index[0].size", 
      "", 
      "N_Magnitude_norm = N_Magnitude / ( CELL_volume * Magnitude_BIN_width )", 
      "", 
      "#Observational data", 
      "Obs_data = np.array([", 
      "                     [-22.5,2.66E-8,9.08E-9,7.78E-8],", 
      "                     [-22.0,2.18E-6,8.70E-7,9.70E-6],", 
      "                     [-21.5,1.45E-5,2.88E-6,2.92E-5],", 
      "                     [-21.0,1.29E-4,7.06E-5,2.19E-4],", 
      "                     [-20.5,2.30E-4,9.34E-5,5.77E-4]", 
      "                    ])", 
      "", 
      "# Plotting Luminosity Function", 
      "# with observational data", 
      "plt.errorbar(Obs_data[:,0],Obs_data[:,1], Obs_data[:,2],Obs_data[:,3], label='Observational Data')", 
      "plt.semilogy(bins_mag,N_Magnitude_norm)", 
      "plt.title(\"Luminosity Function\")", 
      "plt.xlabel(\"Magnitude\")", 
      "plt.ylabel(r\"$\\log \\frac{dL}{dMag} $\")"
     ], 
     "language": "python", 
     "outputs": [
      {
       "output_type": "pyout", 
       "prompt_number": 15, 
       "text": [
        "<matplotlib.text.Text at 0x7f2ab690>"
       ]
      }, 
      {
       "output_type": "display_data", 
       "png": "[encoded data removed]"
      }
     ], 
     "prompt_number": 15
    }, 
    {
     "cell_type": "code", 
     "collapsed": false, 
     "input": [
      "alpha = 6.8e4", 
      "beta  = 0.5", 
      "# $L = \\alpha * Halo_Mass ^ { \\beta}$", 
      "# Luminosity units: Sun Luminosity = $L_{\\odot}$", 
      "Log_Luminosity_halo_list = np.log10(alpha) + beta*M_halos_list ", 
      "", 
      "# $ Mag_{UV} = 5.61 - 2.5 * \\log ( L / L_\\odot )", 
      "Magnitude_UV_galaxy_list = 5.61 - 2.5 *  Log_Luminosity_halo_list[:] ", 
      "", 
      "Magnitude_min = -22.5", 
      "Magnitude_max = -20.0", 
      "Magnitude_BIN_width = (Magnitude_max - Magnitude_min)/BINS", 
      "", 
      "bins_mag = np.linspace( Magnitude_min, Magnitude_max, BINS )", 
      "N_Magnitude = np.zeros(BINS)", 
      "", 
      "for i in range( BINS-1 ):", 
      "    index = np.where((bins_mag[i]  <= Magnitude_UV_galaxy_list)&", 
      "                     (bins_mag[i+1] > Magnitude_UV_galaxy_list))", 
      "    N_Magnitude[i] = index[0].size", 
      "", 
      "N_Magnitude_norm = N_Magnitude / ( CELL_volume * Magnitude_BIN_width )", 
      "", 
      "#Observational data", 
      "Obs_data = np.array([", 
      "                     [-22.5,2.66E-8,9.08E-9,7.78E-8],", 
      "                     [-22.0,2.18E-6,8.70E-7,9.70E-6],", 
      "                     [-21.5,1.45E-5,2.88E-6,2.92E-5],", 
      "                     [-21.0,1.29E-4,7.06E-5,2.19E-4],", 
      "                     [-20.5,2.30E-4,9.34E-5,5.77E-4]", 
      "                    ])", 
      "", 
      "# Plotting Luminosity Function", 
      "# with observational data", 
      "plt.errorbar(Obs_data[:,0],Obs_data[:,1], Obs_data[:,2],Obs_data[:,3], label='Observational Data')", 
      "plt.semilogy(bins_mag,N_Magnitude_norm)", 
      "plt.title(\"Luminosity Function\")", 
      "plt.xlabel(\"Magnitude\")", 
      "plt.ylabel(r\"$\\log \\frac{dL}{dMag} $\")"
     ], 
     "language": "python", 
     "outputs": [
      {
       "output_type": "pyout", 
       "prompt_number": 16, 
       "text": [
        "<matplotlib.text.Text at 0x2b691110>"
       ]
      }, 
      {
       "output_type": "display_data", 
       "png": "[encoded data removed]"
      }
     ], 
     "prompt_number": 16
    }, 
    {
     "cell_type": "code", 
     "collapsed": false, 
     "input": [
      "BINS = 6", 
      "N=20", 
      "M=20", 
      "", 
      "alpha_range = logspace(log10(2000), log10(200000), N)", 
      "beta_range  = linspace( 0.4, 0.6, M)", 
      "", 
      "Chi_square = np.zeros([N*M,3])", 
      "", 
      "", 
      "#Observational data", 
      "Obs_data = np.array([", 
      "                     [-22.5,2.66E-8,9.08E-9,7.78E-8],", 
      "                     [-22.0,2.18E-6,8.70E-7,9.70E-6],", 
      "                     [-21.5,1.45E-5,2.88E-6,2.92E-5],", 
      "                     [-21.0,1.29E-4,7.06E-5,2.19E-4],", 
      "                     [-20.5,2.30E-4,9.34E-5,5.77E-4]", 
      "                    ])", 
      "", 
      "Magnitude_min = -22.5", 
      "Magnitude_max = -20.0", 
      "Magnitude_BIN_width = (Magnitude_max - Magnitude_min)/BINS", 
      "bins_mag = np.linspace( Magnitude_min, Magnitude_max, BINS )", 
      "", 
      "counter=0", 
      "for alpha in alpha_range:", 
      "    for beta in beta_range:", 
      "", 
      "        #Histograms for each combination of alpha & beta", 
      "        Log_Luminosity_halo_list = np.log10(alpha) + beta*M_halos_list ", 
      "        Magnitude_UV_galaxy_list = 5.61 - 2.5 *  Log_Luminosity_halo_list[:] ", 
      "        N_Magnitude = np.zeros(BINS)", 
      "        for i in range( BINS-1 ):", 
      "            index = np.where((bins_mag[i]  <= Magnitude_UV_galaxy_list)&", 
      "                             (bins_mag[i+1] > Magnitude_UV_galaxy_list))", 
      "            N_Magnitude[i] = index[0].size", 
      "        N_Magnitude_norm = N_Magnitude / ( CELL_volume * Magnitude_BIN_width )", 
      "", 
      "        sum_chi_square=0.0", 
      "        for i in range( BINS-1):", 
      "            sum_chi_square=+ double((N_Magnitude_norm[i] - Obs_data[i,1])**2)", 
      "        ", 
      "        Chi_square[counter,0]=alpha", 
      "        Chi_square[counter,1]=beta", 
      "        Chi_square[counter,2]=sum_chi_square", 
      "        print counter", 
      "        counter+=1", 
      ""
     ], 
     "language": "python", 
     "outputs": [
      {
       "output_type": "stream", 
       "stream": "stdout", 
       "text": [
        "0", 
        "1"
       ]
      }, 
      {
       "output_type": "stream", 
       "stream": "stdout", 
       "text": [
        "", 
        "2"
       ]
      }, 
      {
       "output_type": "stream", 
       "stream": "stdout", 
       "text": [
        "", 
        "3"
       ]
      }, 
      {
       "output_type": "stream", 
       "stream": "stdout", 
       "text": [
        "", 
        "4"
       ]
      }, 
      {
       "output_type": "stream", 
       "stream": "stdout", 
       "text": [
        "", 
        "5"
       ]
      }, 
      {
       "output_type": "stream", 
       "stream": "stdout", 
       "text": [
        "", 
        "6"
       ]
      }, 
      {
       "output_type": "stream", 
       "stream": "stdout", 
       "text": [
        "", 
        "7"
       ]
      }, 
      {
       "output_type": "stream", 
       "stream": "stdout", 
       "text": [
        "", 
        "8"
       ]
      }, 
      {
       "output_type": "stream", 
       "stream": "stdout", 
       "text": [
        "", 
        "9"
       ]
      }, 
      {
       "output_type": "stream", 
       "stream": "stdout", 
       "text": [
        "", 
        "10"
       ]
      }, 
      {
       "output_type": "stream", 
       "stream": "stdout", 
       "text": [
        "", 
        "11"
       ]
      }, 
      {
       "output_type": "stream", 
       "stream": "stdout", 
       "text": [
        "", 
        "12"
       ]
      }, 
      {
       "output_type": "stream", 
       "stream": "stdout", 
       "text": [
        "", 
        "13"
       ]
      }, 
      {
       "output_type": "stream", 
       "stream": "stdout", 
       "text": [
        "", 
        "14"
       ]
      }, 
      {
       "output_type": "stream", 
       "stream": "stdout", 
       "text": [
        "", 
        "15"
       ]
      }, 
      {
       "output_type": "stream", 
       "stream": "stdout", 
       "text": [
        "", 
        "16"
       ]
      }, 
      {
       "output_type": "stream", 
       "stream": "stdout", 
       "text": [
        "", 
        "17"
       ]
      }, 
      {
       "output_type": "stream", 
       "stream": "stdout", 
       "text": [
        "", 
        "18"
       ]
      }, 
      {
       "output_type": "stream", 
       "stream": "stdout", 
       "text": [
        "", 
        "19"
       ]
      }, 
      {
       "output_type": "stream", 
       "stream": "stdout", 
       "text": [
        "", 
        "20"
       ]
      }, 
      {
       "output_type": "stream", 
       "stream": "stdout", 
       "text": [
        "", 
        "21"
       ]
      }, 
      {
       "output_type": "stream", 
       "stream": "stdout", 
       "text": [
        "", 
        "22"
       ]
      }, 
      {
       "output_type": "stream", 
       "stream": "stdout", 
       "text": [
        "", 
        "23"
       ]
      }, 
      {
       "output_type": "stream", 
       "stream": "stdout", 
       "text": [
        "", 
        "24"
       ]
      }, 
      {
       "output_type": "stream", 
       "stream": "stdout", 
       "text": [
        "", 
        "25"
       ]
      }, 
      {
       "output_type": "stream", 
       "stream": "stdout", 
       "text": [
        "", 
        "26"
       ]
      }, 
      {
       "output_type": "stream", 
       "stream": "stdout", 
       "text": [
        "", 
        "27"
       ]
      }, 
      {
       "output_type": "stream", 
       "stream": "stdout", 
       "text": [
        "", 
        "28"
       ]
      }, 
      {
       "output_type": "stream", 
       "stream": "stdout", 
       "text": [
        "", 
        "29"
       ]
      }, 
      {
       "output_type": "stream", 
       "stream": "stdout", 
       "text": [
        "", 
        "30"
       ]
      }, 
      {
       "output_type": "stream", 
       "stream": "stdout", 
       "text": [
        "", 
        "31"
       ]
      }, 
      {
       "output_type": "stream", 
       "stream": "stdout", 
       "text": [
        "", 
        "32"
       ]
      }, 
      {
       "output_type": "stream", 
       "stream": "stdout", 
       "text": [
        "", 
        "33"
       ]
      }, 
      {
       "output_type": "stream", 
       "stream": "stdout", 
       "text": [
        "", 
        "34"
       ]
      }, 
      {
       "output_type": "stream", 
       "stream": "stdout", 
       "text": [
        "", 
        "35"
       ]
      }, 
      {
       "output_type": "stream", 
       "stream": "stdout", 
       "text": [
        "", 
        "36"
       ]
      }, 
      {
       "output_type": "stream", 
       "stream": "stdout", 
       "text": [
        "", 
        "37"
       ]
      }, 
      {
       "output_type": "stream", 
       "stream": "stdout", 
       "text": [
        "", 
        "38"
       ]
      }, 
      {
       "output_type": "stream", 
       "stream": "stdout", 
       "text": [
        "", 
        "39"
       ]
      }, 
      {
       "output_type": "stream", 
       "stream": "stdout", 
       "text": [
        "", 
        "40"
       ]
      }, 
      {
       "output_type": "stream", 
       "stream": "stdout", 
       "text": [
        "", 
        "41"
       ]
      }, 
      {
       "output_type": "stream", 
       "stream": "stdout", 
       "text": [
        "", 
        "42"
       ]
      }, 
      {
       "output_type": "stream", 
       "stream": "stdout", 
       "text": [
        "", 
        "43"
       ]
      }, 
      {
       "output_type": "stream", 
       "stream": "stdout", 
       "text": [
        "", 
        "44"
       ]
      }, 
      {
       "output_type": "stream", 
       "stream": "stdout", 
       "text": [
        "", 
        "45"
       ]
      }, 
      {
       "output_type": "stream", 
       "stream": "stdout", 
       "text": [
        "", 
        "46"
       ]
      }, 
      {
       "output_type": "stream", 
       "stream": "stdout", 
       "text": [
        "", 
        "47"
       ]
      }, 
      {
       "output_type": "stream", 
       "stream": "stdout", 
       "text": [
        "", 
        "48"
       ]
      }, 
      {
       "output_type": "stream", 
       "stream": "stdout", 
       "text": [
        "", 
        "49"
       ]
      }, 
      {
       "output_type": "stream", 
       "stream": "stdout", 
       "text": [
        "", 
        "50"
       ]
      }, 
      {
       "output_type": "stream", 
       "stream": "stdout", 
       "text": [
        "", 
        "51"
       ]
      }, 
      {
       "output_type": "stream", 
       "stream": "stdout", 
       "text": [
        "", 
        "52"
       ]
      }, 
      {
       "output_type": "stream", 
       "stream": "stdout", 
       "text": [
        "", 
        "53"
       ]
      }, 
      {
       "output_type": "stream", 
       "stream": "stdout", 
       "text": [
        "", 
        "54"
       ]
      }, 
      {
       "output_type": "stream", 
       "stream": "stdout", 
       "text": [
        "", 
        "55"
       ]
      }, 
      {
       "output_type": "stream", 
       "stream": "stdout", 
       "text": [
        "", 
        "56"
       ]
      }, 
      {
       "output_type": "stream", 
       "stream": "stdout", 
       "text": [
        "", 
        "57"
       ]
      }, 
      {
       "output_type": "stream", 
       "stream": "stdout", 
       "text": [
        "", 
        "58"
       ]
      }, 
      {
       "output_type": "stream", 
       "stream": "stdout", 
       "text": [
        "", 
        "59"
       ]
      }, 
      {
       "output_type": "stream", 
       "stream": "stdout", 
       "text": [
        "", 
        "60"
       ]
      }, 
      {
       "output_type": "stream", 
       "stream": "stdout", 
       "text": [
        "", 
        "61"
       ]
      }, 
      {
       "output_type": "stream", 
       "stream": "stdout", 
       "text": [
        "", 
        "62"
       ]
      }, 
      {
       "output_type": "stream", 
       "stream": "stdout", 
       "text": [
        "", 
        "63"
       ]
      }, 
      {
       "output_type": "stream", 
       "stream": "stdout", 
       "text": [
        "", 
        "64"
       ]
      }, 
      {
       "output_type": "stream", 
       "stream": "stdout", 
       "text": [
        "", 
        "65"
       ]
      }, 
      {
       "output_type": "stream", 
       "stream": "stdout", 
       "text": [
        "", 
        "66"
       ]
      }, 
      {
       "output_type": "stream", 
       "stream": "stdout", 
       "text": [
        "", 
        "67"
       ]
      }, 
      {
       "output_type": "stream", 
       "stream": "stdout", 
       "text": [
        "", 
        "68"
       ]
      }, 
      {
       "output_type": "stream", 
       "stream": "stdout", 
       "text": [
        "", 
        "69"
       ]
      }, 
      {
       "output_type": "stream", 
       "stream": "stdout", 
       "text": [
        "", 
        "70"
       ]
      }, 
      {
       "output_type": "stream", 
       "stream": "stdout", 
       "text": [
        "", 
        "71"
       ]
      }, 
      {
       "output_type": "stream", 
       "stream": "stdout", 
       "text": [
        "", 
        "72"
       ]
      }, 
      {
       "output_type": "stream", 
       "stream": "stdout", 
       "text": [
        "", 
        "73"
       ]
      }, 
      {
       "output_type": "stream", 
       "stream": "stdout", 
       "text": [
        "", 
        "74"
       ]
      }, 
      {
       "output_type": "stream", 
       "stream": "stdout", 
       "text": [
        "", 
        "75"
       ]
      }, 
      {
       "output_type": "stream", 
       "stream": "stdout", 
       "text": [
        "", 
        "76"
       ]
      }, 
      {
       "output_type": "stream", 
       "stream": "stdout", 
       "text": [
        "", 
        "77"
       ]
      }, 
      {
       "output_type": "stream", 
       "stream": "stdout", 
       "text": [
        "", 
        "78"
       ]
      }, 
      {
       "output_type": "stream", 
       "stream": "stdout", 
       "text": [
        "", 
        "79"
       ]
      }, 
      {
       "output_type": "stream", 
       "stream": "stdout", 
       "text": [
        "", 
        "80"
       ]
      }, 
      {
       "output_type": "stream", 
       "stream": "stdout", 
       "text": [
        "", 
        "81"
       ]
      }, 
      {
       "output_type": "stream", 
       "stream": "stdout", 
       "text": [
        "", 
        "82"
       ]
      }, 
      {
       "output_type": "stream", 
       "stream": "stdout", 
       "text": [
        "", 
        "83"
       ]
      }, 
      {
       "output_type": "stream", 
       "stream": "stdout", 
       "text": [
        "", 
        "84"
       ]
      }, 
      {
       "output_type": "stream", 
       "stream": "stdout", 
       "text": [
        "", 
        "85"
       ]
      }, 
      {
       "output_type": "stream", 
       "stream": "stdout", 
       "text": [
        "", 
        "86"
       ]
      }, 
      {
       "output_type": "stream", 
       "stream": "stdout", 
       "text": [
        "", 
        "87"
       ]
      }, 
      {
       "output_type": "stream", 
       "stream": "stdout", 
       "text": [
        "", 
        "88"
       ]
      }, 
      {
       "output_type": "stream", 
       "stream": "stdout", 
       "text": [
        "", 
        "89"
       ]
      }, 
      {
       "output_type": "stream", 
       "stream": "stdout", 
       "text": [
        "", 
        "90"
       ]
      }, 
      {
       "output_type": "stream", 
       "stream": "stdout", 
       "text": [
        "", 
        "91"
       ]
      }, 
      {
       "output_type": "stream", 
       "stream": "stdout", 
       "text": [
        "", 
        "92"
       ]
      }, 
      {
       "output_type": "stream", 
       "stream": "stdout", 
       "text": [
        "", 
        "93"
       ]
      }, 
      {
       "output_type": "stream", 
       "stream": "stdout", 
       "text": [
        "", 
        "94"
       ]
      }, 
      {
       "output_type": "stream", 
       "stream": "stdout", 
       "text": [
        "", 
        "95"
       ]
      }, 
      {
       "output_type": "stream", 
       "stream": "stdout", 
       "text": [
        "", 
        "96"
       ]
      }, 
      {
       "output_type": "stream", 
       "stream": "stdout", 
       "text": [
        "", 
        "97"
       ]
      }, 
      {
       "output_type": "stream", 
       "stream": "stdout", 
       "text": [
        "", 
        "98"
       ]
      }, 
      {
       "output_type": "stream", 
       "stream": "stdout", 
       "text": [
        "", 
        "99"
       ]
      }, 
      {
       "output_type": "stream", 
       "stream": "stdout", 
       "text": [
        "", 
        "100"
       ]
      }, 
      {
       "output_type": "stream", 
       "stream": "stdout", 
       "text": [
        "", 
        "101"
       ]
      }, 
      {
       "output_type": "stream", 
       "stream": "stdout", 
       "text": [
        "", 
        "102"
       ]
      }, 
      {
       "output_type": "stream", 
       "stream": "stdout", 
       "text": [
        "", 
        "103"
       ]
      }, 
      {
       "output_type": "stream", 
       "stream": "stdout", 
       "text": [
        "", 
        "104"
       ]
      }, 
      {
       "output_type": "stream", 
       "stream": "stdout", 
       "text": [
        "", 
        "105"
       ]
      }, 
      {
       "output_type": "stream", 
       "stream": "stdout", 
       "text": [
        "", 
        "106"
       ]
      }, 
      {
       "output_type": "stream", 
       "stream": "stdout", 
       "text": [
        "", 
        "107"
       ]
      }, 
      {
       "output_type": "stream", 
       "stream": "stdout", 
       "text": [
        "", 
        "108"
       ]
      }, 
      {
       "output_type": "stream", 
       "stream": "stdout", 
       "text": [
        "", 
        "109"
       ]
      }, 
      {
       "output_type": "stream", 
       "stream": "stdout", 
       "text": [
        "", 
        "110"
       ]
      }, 
      {
       "output_type": "stream", 
       "stream": "stdout", 
       "text": [
        "", 
        "111"
       ]
      }, 
      {
       "output_type": "stream", 
       "stream": "stdout", 
       "text": [
        "", 
        "112"
       ]
      }, 
      {
       "output_type": "stream", 
       "stream": "stdout", 
       "text": [
        "", 
        "113"
       ]
      }, 
      {
       "output_type": "stream", 
       "stream": "stdout", 
       "text": [
        "", 
        "114"
       ]
      }, 
      {
       "output_type": "stream", 
       "stream": "stdout", 
       "text": [
        "", 
        "115"
       ]
      }, 
      {
       "output_type": "stream", 
       "stream": "stdout", 
       "text": [
        "", 
        "116"
       ]
      }, 
      {
       "output_type": "stream", 
       "stream": "stdout", 
       "text": [
        "", 
        "117"
       ]
      }, 
      {
       "output_type": "stream", 
       "stream": "stdout", 
       "text": [
        "", 
        "118"
       ]
      }, 
      {
       "output_type": "stream", 
       "stream": "stdout", 
       "text": [
        "", 
        "119"
       ]
      }, 
      {
       "output_type": "stream", 
       "stream": "stdout", 
       "text": [
        "", 
        "120"
       ]
      }, 
      {
       "output_type": "stream", 
       "stream": "stdout", 
       "text": [
        "", 
        "121"
       ]
      }, 
      {
       "output_type": "stream", 
       "stream": "stdout", 
       "text": [
        "", 
        "122"
       ]
      }, 
      {
       "output_type": "stream", 
       "stream": "stdout", 
       "text": [
        "", 
        "123"
       ]
      }, 
      {
       "output_type": "stream", 
       "stream": "stdout", 
       "text": [
        "", 
        "124"
       ]
      }, 
      {
       "output_type": "stream", 
       "stream": "stdout", 
       "text": [
        "", 
        "125"
       ]
      }, 
      {
       "output_type": "stream", 
       "stream": "stdout", 
       "text": [
        "", 
        "126"
       ]
      }, 
      {
       "output_type": "stream", 
       "stream": "stdout", 
       "text": [
        "", 
        "127"
       ]
      }, 
      {
       "output_type": "stream", 
       "stream": "stdout", 
       "text": [
        "", 
        "128"
       ]
      }, 
      {
       "output_type": "stream", 
       "stream": "stdout", 
       "text": [
        "", 
        "129"
       ]
      }, 
      {
       "output_type": "stream", 
       "stream": "stdout", 
       "text": [
        "", 
        "130"
       ]
      }, 
      {
       "output_type": "stream", 
       "stream": "stdout", 
       "text": [
        "", 
        "131"
       ]
      }, 
      {
       "output_type": "stream", 
       "stream": "stdout", 
       "text": [
        "", 
        "132"
       ]
      }, 
      {
       "output_type": "stream", 
       "stream": "stdout", 
       "text": [
        "", 
        "133"
       ]
      }, 
      {
       "output_type": "stream", 
       "stream": "stdout", 
       "text": [
        "", 
        "134"
       ]
      }, 
      {
       "output_type": "stream", 
       "stream": "stdout", 
       "text": [
        "", 
        "135"
       ]
      }, 
      {
       "output_type": "stream", 
       "stream": "stdout", 
       "text": [
        "", 
        "136"
       ]
      }, 
      {
       "output_type": "stream", 
       "stream": "stdout", 
       "text": [
        "", 
        "137"
       ]
      }, 
      {
       "output_type": "stream", 
       "stream": "stdout", 
       "text": [
        "", 
        "138"
       ]
      }, 
      {
       "output_type": "stream", 
       "stream": "stdout", 
       "text": [
        "", 
        "139"
       ]
      }, 
      {
       "output_type": "stream", 
       "stream": "stdout", 
       "text": [
        "", 
        "140"
       ]
      }, 
      {
       "output_type": "stream", 
       "stream": "stdout", 
       "text": [
        "", 
        "141"
       ]
      }, 
      {
       "output_type": "stream", 
       "stream": "stdout", 
       "text": [
        "", 
        "142"
       ]
      }, 
      {
       "output_type": "stream", 
       "stream": "stdout", 
       "text": [
        "", 
        "143"
       ]
      }, 
      {
       "output_type": "stream", 
       "stream": "stdout", 
       "text": [
        "", 
        "144"
       ]
      }, 
      {
       "output_type": "stream", 
       "stream": "stdout", 
       "text": [
        "", 
        "145"
       ]
      }, 
      {
       "output_type": "stream", 
       "stream": "stdout", 
       "text": [
        "", 
        "146"
       ]
      }, 
      {
       "output_type": "stream", 
       "stream": "stdout", 
       "text": [
        "", 
        "147"
       ]
      }, 
      {
       "output_type": "stream", 
       "stream": "stdout", 
       "text": [
        "", 
        "148"
       ]
      }, 
      {
       "output_type": "stream", 
       "stream": "stdout", 
       "text": [
        "", 
        "149"
       ]
      }, 
      {
       "output_type": "stream", 
       "stream": "stdout", 
       "text": [
        "", 
        "150"
       ]
      }, 
      {
       "output_type": "stream", 
       "stream": "stdout", 
       "text": [
        "", 
        "151"
       ]
      }, 
      {
       "output_type": "stream", 
       "stream": "stdout", 
       "text": [
        "", 
        "152"
       ]
      }, 
      {
       "output_type": "stream", 
       "stream": "stdout", 
       "text": [
        "", 
        "153"
       ]
      }, 
      {
       "output_type": "stream", 
       "stream": "stdout", 
       "text": [
        "", 
        "154"
       ]
      }, 
      {
       "output_type": "stream", 
       "stream": "stdout", 
       "text": [
        "", 
        "155"
       ]
      }, 
      {
       "output_type": "stream", 
       "stream": "stdout", 
       "text": [
        "", 
        "156"
       ]
      }, 
      {
       "output_type": "stream", 
       "stream": "stdout", 
       "text": [
        "", 
        "157"
       ]
      }, 
      {
       "output_type": "stream", 
       "stream": "stdout", 
       "text": [
        "", 
        "158"
       ]
      }, 
      {
       "output_type": "stream", 
       "stream": "stdout", 
       "text": [
        "", 
        "159"
       ]
      }, 
      {
       "output_type": "stream", 
       "stream": "stdout", 
       "text": [
        "", 
        "160"
       ]
      }, 
      {
       "output_type": "stream", 
       "stream": "stdout", 
       "text": [
        "", 
        "161"
       ]
      }, 
      {
       "output_type": "stream", 
       "stream": "stdout", 
       "text": [
        "", 
        "162"
       ]
      }, 
      {
       "output_type": "stream", 
       "stream": "stdout", 
       "text": [
        "", 
        "163"
       ]
      }, 
      {
       "output_type": "stream", 
       "stream": "stdout", 
       "text": [
        "", 
        "164"
       ]
      }, 
      {
       "output_type": "stream", 
       "stream": "stdout", 
       "text": [
        "", 
        "165"
       ]
      }, 
      {
       "output_type": "stream", 
       "stream": "stdout", 
       "text": [
        "", 
        "166"
       ]
      }, 
      {
       "output_type": "stream", 
       "stream": "stdout", 
       "text": [
        "", 
        "167"
       ]
      }, 
      {
       "output_type": "stream", 
       "stream": "stdout", 
       "text": [
        "", 
        "168"
       ]
      }, 
      {
       "output_type": "stream", 
       "stream": "stdout", 
       "text": [
        "", 
        "169"
       ]
      }, 
      {
       "output_type": "stream", 
       "stream": "stdout", 
       "text": [
        "", 
        "170"
       ]
      }, 
      {
       "output_type": "stream", 
       "stream": "stdout", 
       "text": [
        "", 
        "171"
       ]
      }, 
      {
       "output_type": "stream", 
       "stream": "stdout", 
       "text": [
        "", 
        "172"
       ]
      }, 
      {
       "output_type": "stream", 
       "stream": "stdout", 
       "text": [
        "", 
        "173"
       ]
      }, 
      {
       "output_type": "stream", 
       "stream": "stdout", 
       "text": [
        "", 
        "174"
       ]
      }, 
      {
       "output_type": "stream", 
       "stream": "stdout", 
       "text": [
        "", 
        "175"
       ]
      }, 
      {
       "output_type": "stream", 
       "stream": "stdout", 
       "text": [
        "", 
        "176"
       ]
      }, 
      {
       "output_type": "stream", 
       "stream": "stdout", 
       "text": [
        "", 
        "177"
       ]
      }, 
      {
       "output_type": "stream", 
       "stream": "stdout", 
       "text": [
        "", 
        "178"
       ]
      }, 
      {
       "output_type": "stream", 
       "stream": "stdout", 
       "text": [
        "", 
        "179"
       ]
      }, 
      {
       "output_type": "stream", 
       "stream": "stdout", 
       "text": [
        "", 
        "180"
       ]
      }, 
      {
       "output_type": "stream", 
       "stream": "stdout", 
       "text": [
        "", 
        "181"
       ]
      }, 
      {
       "output_type": "stream", 
       "stream": "stdout", 
       "text": [
        "", 
        "182"
       ]
      }, 
      {
       "output_type": "stream", 
       "stream": "stdout", 
       "text": [
        "", 
        "183"
       ]
      }, 
      {
       "output_type": "stream", 
       "stream": "stdout", 
       "text": [
        "", 
        "184"
       ]
      }, 
      {
       "output_type": "stream", 
       "stream": "stdout", 
       "text": [
        "", 
        "185"
       ]
      }, 
      {
       "output_type": "stream", 
       "stream": "stdout", 
       "text": [
        "", 
        "186"
       ]
      }, 
      {
       "output_type": "stream", 
       "stream": "stdout", 
       "text": [
        "", 
        "187"
       ]
      }, 
      {
       "output_type": "stream", 
       "stream": "stdout", 
       "text": [
        "", 
        "188"
       ]
      }, 
      {
       "output_type": "stream", 
       "stream": "stdout", 
       "text": [
        "", 
        "189"
       ]
      }, 
      {
       "output_type": "stream", 
       "stream": "stdout", 
       "text": [
        "", 
        "190"
       ]
      }, 
      {
       "output_type": "stream", 
       "stream": "stdout", 
       "text": [
        "", 
        "191"
       ]
      }, 
      {
       "output_type": "stream", 
       "stream": "stdout", 
       "text": [
        "", 
        "192"
       ]
      }, 
      {
       "output_type": "stream", 
       "stream": "stdout", 
       "text": [
        "", 
        "193"
       ]
      }, 
      {
       "output_type": "stream", 
       "stream": "stdout", 
       "text": [
        "", 
        "194"
       ]
      }, 
      {
       "output_type": "stream", 
       "stream": "stdout", 
       "text": [
        "", 
        "195"
       ]
      }, 
      {
       "output_type": "stream", 
       "stream": "stdout", 
       "text": [
        "", 
        "196"
       ]
      }, 
      {
       "output_type": "stream", 
       "stream": "stdout", 
       "text": [
        "", 
        "197"
       ]
      }, 
      {
       "output_type": "stream", 
       "stream": "stdout", 
       "text": [
        "", 
        "198"
       ]
      }, 
      {
       "output_type": "stream", 
       "stream": "stdout", 
       "text": [
        "", 
        "199"
       ]
      }, 
      {
       "output_type": "stream", 
       "stream": "stdout", 
       "text": [
        "", 
        "200"
       ]
      }, 
      {
       "output_type": "stream", 
       "stream": "stdout", 
       "text": [
        "", 
        "201"
       ]
      }, 
      {
       "output_type": "stream", 
       "stream": "stdout", 
       "text": [
        "", 
        "202"
       ]
      }, 
      {
       "output_type": "stream", 
       "stream": "stdout", 
       "text": [
        "", 
        "203"
       ]
      }, 
      {
       "output_type": "stream", 
       "stream": "stdout", 
       "text": [
        "", 
        "204"
       ]
      }, 
      {
       "output_type": "stream", 
       "stream": "stdout", 
       "text": [
        "", 
        "205"
       ]
      }, 
      {
       "output_type": "stream", 
       "stream": "stdout", 
       "text": [
        "", 
        "206"
       ]
      }, 
      {
       "output_type": "stream", 
       "stream": "stdout", 
       "text": [
        "", 
        "207"
       ]
      }, 
      {
       "output_type": "stream", 
       "stream": "stdout", 
       "text": [
        "", 
        "208"
       ]
      }, 
      {
       "output_type": "stream", 
       "stream": "stdout", 
       "text": [
        "", 
        "209"
       ]
      }, 
      {
       "output_type": "stream", 
       "stream": "stdout", 
       "text": [
        "", 
        "210"
       ]
      }, 
      {
       "output_type": "stream", 
       "stream": "stdout", 
       "text": [
        "", 
        "211"
       ]
      }, 
      {
       "output_type": "stream", 
       "stream": "stdout", 
       "text": [
        "", 
        "212"
       ]
      }, 
      {
       "output_type": "stream", 
       "stream": "stdout", 
       "text": [
        "", 
        "213"
       ]
      }, 
      {
       "output_type": "stream", 
       "stream": "stdout", 
       "text": [
        "", 
        "214"
       ]
      }, 
      {
       "output_type": "stream", 
       "stream": "stdout", 
       "text": [
        "", 
        "215"
       ]
      }, 
      {
       "output_type": "stream", 
       "stream": "stdout", 
       "text": [
        "", 
        "216"
       ]
      }, 
      {
       "output_type": "stream", 
       "stream": "stdout", 
       "text": [
        "", 
        "217"
       ]
      }, 
      {
       "output_type": "stream", 
       "stream": "stdout", 
       "text": [
        "", 
        "218"
       ]
      }, 
      {
       "output_type": "stream", 
       "stream": "stdout", 
       "text": [
        "", 
        "219"
       ]
      }, 
      {
       "output_type": "stream", 
       "stream": "stdout", 
       "text": [
        "", 
        "220"
       ]
      }, 
      {
       "output_type": "stream", 
       "stream": "stdout", 
       "text": [
        "", 
        "221"
       ]
      }, 
      {
       "output_type": "stream", 
       "stream": "stdout", 
       "text": [
        "", 
        "222"
       ]
      }, 
      {
       "output_type": "stream", 
       "stream": "stdout", 
       "text": [
        "", 
        "223"
       ]
      }, 
      {
       "output_type": "stream", 
       "stream": "stdout", 
       "text": [
        "", 
        "224"
       ]
      }, 
      {
       "output_type": "stream", 
       "stream": "stdout", 
       "text": [
        "", 
        "225"
       ]
      }, 
      {
       "output_type": "stream", 
       "stream": "stdout", 
       "text": [
        "", 
        "226"
       ]
      }, 
      {
       "output_type": "stream", 
       "stream": "stdout", 
       "text": [
        "", 
        "227"
       ]
      }, 
      {
       "output_type": "stream", 
       "stream": "stdout", 
       "text": [
        "", 
        "228"
       ]
      }, 
      {
       "output_type": "stream", 
       "stream": "stdout", 
       "text": [
        "", 
        "229"
       ]
      }, 
      {
       "output_type": "stream", 
       "stream": "stdout", 
       "text": [
        "", 
        "230"
       ]
      }, 
      {
       "output_type": "stream", 
       "stream": "stdout", 
       "text": [
        "", 
        "231"
       ]
      }, 
      {
       "output_type": "stream", 
       "stream": "stdout", 
       "text": [
        "", 
        "232"
       ]
      }, 
      {
       "output_type": "stream", 
       "stream": "stdout", 
       "text": [
        "", 
        "233"
       ]
      }, 
      {
       "output_type": "stream", 
       "stream": "stdout", 
       "text": [
        "", 
        "234"
       ]
      }, 
      {
       "output_type": "stream", 
       "stream": "stdout", 
       "text": [
        "", 
        "235"
       ]
      }, 
      {
       "output_type": "stream", 
       "stream": "stdout", 
       "text": [
        "", 
        "236"
       ]
      }, 
      {
       "output_type": "stream", 
       "stream": "stdout", 
       "text": [
        "", 
        "237"
       ]
      }, 
      {
       "output_type": "stream", 
       "stream": "stdout", 
       "text": [
        "", 
        "238"
       ]
      }, 
      {
       "output_type": "stream", 
       "stream": "stdout", 
       "text": [
        "", 
        "239"
       ]
      }, 
      {
       "output_type": "stream", 
       "stream": "stdout", 
       "text": [
        "", 
        "240"
       ]
      }, 
      {
       "output_type": "stream", 
       "stream": "stdout", 
       "text": [
        "", 
        "241"
       ]
      }, 
      {
       "output_type": "stream", 
       "stream": "stdout", 
       "text": [
        "", 
        "242"
       ]
      }, 
      {
       "output_type": "stream", 
       "stream": "stdout", 
       "text": [
        "", 
        "243"
       ]
      }, 
      {
       "output_type": "stream", 
       "stream": "stdout", 
       "text": [
        "", 
        "244"
       ]
      }, 
      {
       "output_type": "stream", 
       "stream": "stdout", 
       "text": [
        "", 
        "245"
       ]
      }, 
      {
       "output_type": "stream", 
       "stream": "stdout", 
       "text": [
        "", 
        "246"
       ]
      }, 
      {
       "output_type": "stream", 
       "stream": "stdout", 
       "text": [
        "", 
        "247"
       ]
      }, 
      {
       "output_type": "stream", 
       "stream": "stdout", 
       "text": [
        "", 
        "248"
       ]
      }, 
      {
       "output_type": "stream", 
       "stream": "stdout", 
       "text": [
        "", 
        "249"
       ]
      }, 
      {
       "output_type": "stream", 
       "stream": "stdout", 
       "text": [
        "", 
        "250"
       ]
      }, 
      {
       "output_type": "stream", 
       "stream": "stdout", 
       "text": [
        "", 
        "251"
       ]
      }, 
      {
       "output_type": "stream", 
       "stream": "stdout", 
       "text": [
        "", 
        "252"
       ]
      }, 
      {
       "output_type": "stream", 
       "stream": "stdout", 
       "text": [
        "", 
        "253"
       ]
      }, 
      {
       "output_type": "stream", 
       "stream": "stdout", 
       "text": [
        "", 
        "254"
       ]
      }, 
      {
       "output_type": "stream", 
       "stream": "stdout", 
       "text": [
        "", 
        "255"
       ]
      }, 
      {
       "output_type": "stream", 
       "stream": "stdout", 
       "text": [
        "", 
        "256"
       ]
      }, 
      {
       "output_type": "stream", 
       "stream": "stdout", 
       "text": [
        "", 
        "257"
       ]
      }, 
      {
       "output_type": "stream", 
       "stream": "stdout", 
       "text": [
        "", 
        "258"
       ]
      }, 
      {
       "output_type": "stream", 
       "stream": "stdout", 
       "text": [
        "", 
        "259"
       ]
      }, 
      {
       "output_type": "stream", 
       "stream": "stdout", 
       "text": [
        "", 
        "260"
       ]
      }, 
      {
       "output_type": "stream", 
       "stream": "stdout", 
       "text": [
        "", 
        "261"
       ]
      }, 
      {
       "output_type": "stream", 
       "stream": "stdout", 
       "text": [
        "", 
        "262"
       ]
      }, 
      {
       "output_type": "stream", 
       "stream": "stdout", 
       "text": [
        "", 
        "263"
       ]
      }, 
      {
       "output_type": "stream", 
       "stream": "stdout", 
       "text": [
        "", 
        "264"
       ]
      }, 
      {
       "output_type": "stream", 
       "stream": "stdout", 
       "text": [
        "", 
        "265"
       ]
      }, 
      {
       "output_type": "stream", 
       "stream": "stdout", 
       "text": [
        "", 
        "266"
       ]
      }, 
      {
       "output_type": "stream", 
       "stream": "stdout", 
       "text": [
        "", 
        "267"
       ]
      }, 
      {
       "output_type": "stream", 
       "stream": "stdout", 
       "text": [
        "", 
        "268"
       ]
      }, 
      {
       "output_type": "stream", 
       "stream": "stdout", 
       "text": [
        "", 
        "269"
       ]
      }, 
      {
       "output_type": "stream", 
       "stream": "stdout", 
       "text": [
        "", 
        "270"
       ]
      }, 
      {
       "output_type": "stream", 
       "stream": "stdout", 
       "text": [
        "", 
        "271"
       ]
      }, 
      {
       "output_type": "stream", 
       "stream": "stdout", 
       "text": [
        "", 
        "272"
       ]
      }, 
      {
       "output_type": "stream", 
       "stream": "stdout", 
       "text": [
        "", 
        "273"
       ]
      }, 
      {
       "output_type": "stream", 
       "stream": "stdout", 
       "text": [
        "", 
        "274"
       ]
      }, 
      {
       "output_type": "stream", 
       "stream": "stdout", 
       "text": [
        "", 
        "275"
       ]
      }, 
      {
       "output_type": "stream", 
       "stream": "stdout", 
       "text": [
        "", 
        "276"
       ]
      }, 
      {
       "output_type": "stream", 
       "stream": "stdout", 
       "text": [
        "", 
        "277"
       ]
      }, 
      {
       "output_type": "stream", 
       "stream": "stdout", 
       "text": [
        "", 
        "278"
       ]
      }, 
      {
       "output_type": "stream", 
       "stream": "stdout", 
       "text": [
        "", 
        "279"
       ]
      }, 
      {
       "output_type": "stream", 
       "stream": "stdout", 
       "text": [
        "", 
        "280"
       ]
      }, 
      {
       "output_type": "stream", 
       "stream": "stdout", 
       "text": [
        "", 
        "281"
       ]
      }, 
      {
       "output_type": "stream", 
       "stream": "stdout", 
       "text": [
        "", 
        "282"
       ]
      }, 
      {
       "output_type": "stream", 
       "stream": "stdout", 
       "text": [
        "", 
        "283"
       ]
      }, 
      {
       "output_type": "stream", 
       "stream": "stdout", 
       "text": [
        "", 
        "284"
       ]
      }, 
      {
       "output_type": "stream", 
       "stream": "stdout", 
       "text": [
        "", 
        "285"
       ]
      }, 
      {
       "output_type": "stream", 
       "stream": "stdout", 
       "text": [
        "", 
        "286"
       ]
      }, 
      {
       "output_type": "stream", 
       "stream": "stdout", 
       "text": [
        "", 
        "287"
       ]
      }, 
      {
       "output_type": "stream", 
       "stream": "stdout", 
       "text": [
        "", 
        "288"
       ]
      }, 
      {
       "output_type": "stream", 
       "stream": "stdout", 
       "text": [
        "", 
        "289"
       ]
      }, 
      {
       "output_type": "stream", 
       "stream": "stdout", 
       "text": [
        "", 
        "290"
       ]
      }, 
      {
       "output_type": "stream", 
       "stream": "stdout", 
       "text": [
        "", 
        "291"
       ]
      }, 
      {
       "output_type": "stream", 
       "stream": "stdout", 
       "text": [
        "", 
        "292"
       ]
      }, 
      {
       "output_type": "stream", 
       "stream": "stdout", 
       "text": [
        "", 
        "293"
       ]
      }, 
      {
       "output_type": "stream", 
       "stream": "stdout", 
       "text": [
        "", 
        "294"
       ]
      }, 
      {
       "output_type": "stream", 
       "stream": "stdout", 
       "text": [
        "", 
        "295"
       ]
      }, 
      {
       "output_type": "stream", 
       "stream": "stdout", 
       "text": [
        "", 
        "296"
       ]
      }, 
      {
       "output_type": "stream", 
       "stream": "stdout", 
       "text": [
        "", 
        "297"
       ]
      }, 
      {
       "output_type": "stream", 
       "stream": "stdout", 
       "text": [
        "", 
        "298"
       ]
      }, 
      {
       "output_type": "stream", 
       "stream": "stdout", 
       "text": [
        "", 
        "299"
       ]
      }, 
      {
       "output_type": "stream", 
       "stream": "stdout", 
       "text": [
        "", 
        "300"
       ]
      }, 
      {
       "output_type": "stream", 
       "stream": "stdout", 
       "text": [
        "", 
        "301"
       ]
      }, 
      {
       "output_type": "stream", 
       "stream": "stdout", 
       "text": [
        "", 
        "302"
       ]
      }, 
      {
       "output_type": "stream", 
       "stream": "stdout", 
       "text": [
        "", 
        "303"
       ]
      }, 
      {
       "output_type": "stream", 
       "stream": "stdout", 
       "text": [
        "", 
        "304"
       ]
      }, 
      {
       "output_type": "stream", 
       "stream": "stdout", 
       "text": [
        "", 
        "305"
       ]
      }, 
      {
       "output_type": "stream", 
       "stream": "stdout", 
       "text": [
        "", 
        "306"
       ]
      }, 
      {
       "output_type": "stream", 
       "stream": "stdout", 
       "text": [
        "", 
        "307"
       ]
      }, 
      {
       "output_type": "stream", 
       "stream": "stdout", 
       "text": [
        "", 
        "308"
       ]
      }, 
      {
       "output_type": "stream", 
       "stream": "stdout", 
       "text": [
        "", 
        "309"
       ]
      }, 
      {
       "output_type": "stream", 
       "stream": "stdout", 
       "text": [
        "", 
        "310"
       ]
      }, 
      {
       "output_type": "stream", 
       "stream": "stdout", 
       "text": [
        "", 
        "311"
       ]
      }, 
      {
       "output_type": "stream", 
       "stream": "stdout", 
       "text": [
        "", 
        "312"
       ]
      }, 
      {
       "output_type": "stream", 
       "stream": "stdout", 
       "text": [
        "", 
        "313"
       ]
      }, 
      {
       "output_type": "stream", 
       "stream": "stdout", 
       "text": [
        "", 
        "314"
       ]
      }, 
      {
       "output_type": "stream", 
       "stream": "stdout", 
       "text": [
        "", 
        "315"
       ]
      }, 
      {
       "output_type": "stream", 
       "stream": "stdout", 
       "text": [
        "", 
        "316"
       ]
      }, 
      {
       "output_type": "stream", 
       "stream": "stdout", 
       "text": [
        "", 
        "317"
       ]
      }, 
      {
       "output_type": "stream", 
       "stream": "stdout", 
       "text": [
        "", 
        "318"
       ]
      }, 
      {
       "output_type": "stream", 
       "stream": "stdout", 
       "text": [
        "", 
        "319"
       ]
      }, 
      {
       "output_type": "stream", 
       "stream": "stdout", 
       "text": [
        "", 
        "320"
       ]
      }, 
      {
       "output_type": "stream", 
       "stream": "stdout", 
       "text": [
        "", 
        "321"
       ]
      }, 
      {
       "output_type": "stream", 
       "stream": "stdout", 
       "text": [
        "", 
        "322"
       ]
      }, 
      {
       "output_type": "stream", 
       "stream": "stdout", 
       "text": [
        "", 
        "323"
       ]
      }, 
      {
       "output_type": "stream", 
       "stream": "stdout", 
       "text": [
        "", 
        "324"
       ]
      }, 
      {
       "output_type": "stream", 
       "stream": "stdout", 
       "text": [
        "", 
        "325"
       ]
      }, 
      {
       "output_type": "stream", 
       "stream": "stdout", 
       "text": [
        "", 
        "326"
       ]
      }, 
      {
       "output_type": "stream", 
       "stream": "stdout", 
       "text": [
        "", 
        "327"
       ]
      }, 
      {
       "output_type": "stream", 
       "stream": "stdout", 
       "text": [
        "", 
        "328"
       ]
      }, 
      {
       "output_type": "stream", 
       "stream": "stdout", 
       "text": [
        "", 
        "329"
       ]
      }, 
      {
       "output_type": "stream", 
       "stream": "stdout", 
       "text": [
        "", 
        "330"
       ]
      }, 
      {
       "output_type": "stream", 
       "stream": "stdout", 
       "text": [
        "", 
        "331"
       ]
      }, 
      {
       "output_type": "stream", 
       "stream": "stdout", 
       "text": [
        "", 
        "332"
       ]
      }, 
      {
       "output_type": "stream", 
       "stream": "stdout", 
       "text": [
        "", 
        "333"
       ]
      }, 
      {
       "output_type": "stream", 
       "stream": "stdout", 
       "text": [
        "", 
        "334"
       ]
      }, 
      {
       "output_type": "stream", 
       "stream": "stdout", 
       "text": [
        "", 
        "335"
       ]
      }, 
      {
       "output_type": "stream", 
       "stream": "stdout", 
       "text": [
        "", 
        "336"
       ]
      }, 
      {
       "output_type": "stream", 
       "stream": "stdout", 
       "text": [
        "", 
        "337"
       ]
      }, 
      {
       "output_type": "stream", 
       "stream": "stdout", 
       "text": [
        "", 
        "338"
       ]
      }, 
      {
       "output_type": "stream", 
       "stream": "stdout", 
       "text": [
        "", 
        "339"
       ]
      }, 
      {
       "output_type": "stream", 
       "stream": "stdout", 
       "text": [
        "", 
        "340"
       ]
      }, 
      {
       "output_type": "stream", 
       "stream": "stdout", 
       "text": [
        "", 
        "341"
       ]
      }, 
      {
       "output_type": "stream", 
       "stream": "stdout", 
       "text": [
        "", 
        "342"
       ]
      }, 
      {
       "output_type": "stream", 
       "stream": "stdout", 
       "text": [
        "", 
        "343"
       ]
      }, 
      {
       "output_type": "stream", 
       "stream": "stdout", 
       "text": [
        "", 
        "344"
       ]
      }, 
      {
       "output_type": "stream", 
       "stream": "stdout", 
       "text": [
        "", 
        "345"
       ]
      }, 
      {
       "output_type": "stream", 
       "stream": "stdout", 
       "text": [
        "", 
        "346"
       ]
      }, 
      {
       "output_type": "stream", 
       "stream": "stdout", 
       "text": [
        "", 
        "347"
       ]
      }, 
      {
       "output_type": "stream", 
       "stream": "stdout", 
       "text": [
        "", 
        "348"
       ]
      }, 
      {
       "output_type": "stream", 
       "stream": "stdout", 
       "text": [
        "", 
        "349"
       ]
      }, 
      {
       "output_type": "stream", 
       "stream": "stdout", 
       "text": [
        "", 
        "350"
       ]
      }, 
      {
       "output_type": "stream", 
       "stream": "stdout", 
       "text": [
        "", 
        "351"
       ]
      }, 
      {
       "output_type": "stream", 
       "stream": "stdout", 
       "text": [
        "", 
        "352"
       ]
      }, 
      {
       "output_type": "stream", 
       "stream": "stdout", 
       "text": [
        "", 
        "353"
       ]
      }, 
      {
       "output_type": "stream", 
       "stream": "stdout", 
       "text": [
        "", 
        "354"
       ]
      }, 
      {
       "output_type": "stream", 
       "stream": "stdout", 
       "text": [
        "", 
        "355"
       ]
      }, 
      {
       "output_type": "stream", 
       "stream": "stdout", 
       "text": [
        "", 
        "356"
       ]
      }, 
      {
       "output_type": "stream", 
       "stream": "stdout", 
       "text": [
        "", 
        "357"
       ]
      }, 
      {
       "output_type": "stream", 
       "stream": "stdout", 
       "text": [
        "", 
        "358"
       ]
      }, 
      {
       "output_type": "stream", 
       "stream": "stdout", 
       "text": [
        "", 
        "359"
       ]
      }, 
      {
       "output_type": "stream", 
       "stream": "stdout", 
       "text": [
        "", 
        "360"
       ]
      }, 
      {
       "output_type": "stream", 
       "stream": "stdout", 
       "text": [
        "", 
        "361"
       ]
      }, 
      {
       "output_type": "stream", 
       "stream": "stdout", 
       "text": [
        "", 
        "362"
       ]
      }, 
      {
       "output_type": "stream", 
       "stream": "stdout", 
       "text": [
        "", 
        "363"
       ]
      }, 
      {
       "output_type": "stream", 
       "stream": "stdout", 
       "text": [
        "", 
        "364"
       ]
      }, 
      {
       "output_type": "stream", 
       "stream": "stdout", 
       "text": [
        "", 
        "365"
       ]
      }, 
      {
       "output_type": "stream", 
       "stream": "stdout", 
       "text": [
        "", 
        "366"
       ]
      }, 
      {
       "output_type": "stream", 
       "stream": "stdout", 
       "text": [
        "", 
        "367"
       ]
      }, 
      {
       "output_type": "stream", 
       "stream": "stdout", 
       "text": [
        "", 
        "368"
       ]
      }, 
      {
       "output_type": "stream", 
       "stream": "stdout", 
       "text": [
        "", 
        "369"
       ]
      }, 
      {
       "output_type": "stream", 
       "stream": "stdout", 
       "text": [
        "", 
        "370"
       ]
      }, 
      {
       "output_type": "stream", 
       "stream": "stdout", 
       "text": [
        "", 
        "371"
       ]
      }, 
      {
       "output_type": "stream", 
       "stream": "stdout", 
       "text": [
        "", 
        "372"
       ]
      }, 
      {
       "output_type": "stream", 
       "stream": "stdout", 
       "text": [
        "", 
        "373"
       ]
      }, 
      {
       "output_type": "stream", 
       "stream": "stdout", 
       "text": [
        "", 
        "374"
       ]
      }, 
      {
       "output_type": "stream", 
       "stream": "stdout", 
       "text": [
        "", 
        "375"
       ]
      }, 
      {
       "output_type": "stream", 
       "stream": "stdout", 
       "text": [
        "", 
        "376"
       ]
      }, 
      {
       "output_type": "stream", 
       "stream": "stdout", 
       "text": [
        "", 
        "377"
       ]
      }, 
      {
       "output_type": "stream", 
       "stream": "stdout", 
       "text": [
        "", 
        "378"
       ]
      }, 
      {
       "output_type": "stream", 
       "stream": "stdout", 
       "text": [
        "", 
        "379"
       ]
      }, 
      {
       "output_type": "stream", 
       "stream": "stdout", 
       "text": [
        "", 
        "380"
       ]
      }, 
      {
       "output_type": "stream", 
       "stream": "stdout", 
       "text": [
        "", 
        "381"
       ]
      }, 
      {
       "output_type": "stream", 
       "stream": "stdout", 
       "text": [
        "", 
        "382"
       ]
      }, 
      {
       "output_type": "stream", 
       "stream": "stdout", 
       "text": [
        "", 
        "383"
       ]
      }, 
      {
       "output_type": "stream", 
       "stream": "stdout", 
       "text": [
        "", 
        "384"
       ]
      }, 
      {
       "output_type": "stream", 
       "stream": "stdout", 
       "text": [
        "", 
        "385"
       ]
      }, 
      {
       "output_type": "stream", 
       "stream": "stdout", 
       "text": [
        "", 
        "386"
       ]
      }, 
      {
       "output_type": "stream", 
       "stream": "stdout", 
       "text": [
        "", 
        "387"
       ]
      }, 
      {
       "output_type": "stream", 
       "stream": "stdout", 
       "text": [
        "", 
        "388"
       ]
      }, 
      {
       "output_type": "stream", 
       "stream": "stdout", 
       "text": [
        "", 
        "389"
       ]
      }, 
      {
       "output_type": "stream", 
       "stream": "stdout", 
       "text": [
        "", 
        "390"
       ]
      }, 
      {
       "output_type": "stream", 
       "stream": "stdout", 
       "text": [
        "", 
        "391"
       ]
      }, 
      {
       "output_type": "stream", 
       "stream": "stdout", 
       "text": [
        "", 
        "392"
       ]
      }, 
      {
       "output_type": "stream", 
       "stream": "stdout", 
       "text": [
        "", 
        "393"
       ]
      }, 
      {
       "output_type": "stream", 
       "stream": "stdout", 
       "text": [
        "", 
        "394"
       ]
      }, 
      {
       "output_type": "stream", 
       "stream": "stdout", 
       "text": [
        "", 
        "395"
       ]
      }, 
      {
       "output_type": "stream", 
       "stream": "stdout", 
       "text": [
        "", 
        "396"
       ]
      }, 
      {
       "output_type": "stream", 
       "stream": "stdout", 
       "text": [
        "", 
        "397"
       ]
      }, 
      {
       "output_type": "stream", 
       "stream": "stdout", 
       "text": [
        "", 
        "398"
       ]
      }, 
      {
       "output_type": "stream", 
       "stream": "stdout", 
       "text": [
        "", 
        "399"
       ]
      }, 
      {
       "output_type": "stream", 
       "stream": "stdout", 
       "text": [
        ""
       ]
      }
     ], 
     "prompt_number": 68
    }, 
    {
     "cell_type": "code", 
     "collapsed": false, 
     "input": [
      "for line in Chi_square:", 
      "    print line[0],\"\\t\", line[1],\"\\t\", line[2]"
     ], 
     "language": "python", 
     "outputs": [
      {
       "output_type": "stream", 
       "stream": "stdout", 
       "text": [
        "2000.0 \t0.4 \t5.29e-08", 
        "2000.0 \t0.410526315789 \t5.29e-08", 
        "2000.0 \t0.421052631579 \t5.29e-08", 
        "2000.0 \t0.431578947368 \t5.29e-08", 
        "2000.0 \t0.442105263158 \t5.29e-08", 
        "2000.0 \t0.452631578947 \t5.29e-08", 
        "2000.0 \t0.463157894737 \t5.29e-08", 
        "2000.0 \t0.473684210526 \t5.29e-08", 
        "2000.0 \t0.484210526316 \t5.29e-08", 
        "2000.0 \t0.494736842105 \t5.29e-08", 
        "2000.0 \t0.505263157895 \t5.29e-08", 
        "2000.0 \t0.515789473684 \t5.29e-08", 
        "2000.0 \t0.526315789474 \t5.29e-08", 
        "2000.0 \t0.536842105263 \t5.29e-08", 
        "2000.0 \t0.547368421053 \t5.28966880518e-08", 
        "2000.0 \t0.557894736842 \t5.28481247238e-08", 
        "2000.0 \t0.568421052632 \t5.22934447418e-08", 
        "2000.0 \t0.578947368421 \t4.9335517456e-08", 
        "2000.0 \t0.589473684211 \t3.83902891034e-08", 
        "2000.0 \t0.6 \t1.2002517136e-08", 
        "2548.54997141 \t0.4 \t5.29e-08", 
        "2548.54997141 \t0.410526315789 \t5.29e-08", 
        "2548.54997141 \t0.421052631579 \t5.29e-08", 
        "2548.54997141 \t0.431578947368 \t5.29e-08", 
        "2548.54997141 \t0.442105263158 \t5.29e-08", 
        "2548.54997141 \t0.452631578947 \t5.29e-08", 
        "2548.54997141 \t0.463157894737 \t5.29e-08", 
        "2548.54997141 \t0.473684210526 \t5.29e-08", 
        "2548.54997141 \t0.484210526316 \t5.29e-08", 
        "2548.54997141 \t0.494736842105 \t5.29e-08", 
        "2548.54997141 \t0.505263157895 \t5.29e-08", 
        "2548.54997141 \t0.515789473684 \t5.29e-08", 
        "2548.54997141 \t0.526315789474 \t5.29e-08", 
        "2548.54997141 \t0.536842105263 \t5.28988960058e-08", 
        "2548.54997141 \t0.547368421053 \t5.28679888442e-08", 
        "2548.54997141 \t0.557894736842 \t5.24736146694e-08", 
        "2548.54997141 \t0.568421052632 \t5.0197506304e-08", 
        "2548.54997141 \t0.578947368421 \t4.1016294615e-08", 
        "2548.54997141 \t0.589473684211 \t1.62840058374e-08", 
        "2548.54997141 \t0.6 \t6.71967109696e-09", 
        "3247.55347838 \t0.4 \t5.29e-08", 
        "3247.55347838 \t0.410526315789 \t5.29e-08", 
        "3247.55347838 \t0.421052631579 \t5.29e-08", 
        "3247.55347838 \t0.431578947368 \t5.29e-08", 
        "3247.55347838 \t0.442105263158 \t5.29e-08", 
        "3247.55347838 \t0.452631578947 \t5.29e-08", 
        "3247.55347838 \t0.463157894737 \t5.29e-08", 
        "3247.55347838 \t0.473684210526 \t5.29e-08", 
        "3247.55347838 \t0.484210526316 \t5.29e-08", 
        "3247.55347838 \t0.494736842105 \t5.29e-08", 
        "3247.55347838 \t0.505263157895 \t5.29e-08", 
        "3247.55347838 \t0.515789473684 \t5.29e-08", 
        "3247.55347838 \t0.526315789474 \t5.29e-08", 
        "3247.55347838 \t0.536842105263 \t5.2884545129e-08", 
        "3247.55347838 \t0.547368421053 \t5.26199556122e-08", 
        "3247.55347838 \t0.557894736842 \t5.0865404729e-08", 
        "3247.55347838 \t0.568421052632 \t4.3266662441e-08", 
        "3247.55347838 \t0.578947368421 \t2.04531186074e-08", 
        "3247.55347838 \t0.589473684211 \t1.98302777344e-09", 
        "3247.55347838 \t0.6 \t2.65485447908e-07", 
        "4138.27616223 \t0.4 \t5.29e-08", 
        "4138.27616223 \t0.410526315789 \t5.29e-08", 
        "4138.27616223 \t0.421052631579 \t5.29e-08", 
        "4138.27616223 \t0.431578947368 \t5.29e-08", 
        "4138.27616223 \t0.442105263158 \t5.29e-08", 
        "4138.27616223 \t0.452631578947 \t5.29e-08", 
        "4138.27616223 \t0.463157894737 \t5.29e-08", 
        "4138.27616223 \t0.473684210526 \t5.29e-08", 
        "4138.27616223 \t0.484210526316 \t5.29e-08", 
        "4138.27616223 \t0.494736842105 \t5.29e-08", 
        "4138.27616223 \t0.505263157895 \t5.29e-08", 
        "4138.27616223 \t0.515789473684 \t5.29e-08", 
        "4138.27616223 \t0.526315789474 \t5.28900644666e-08", 
        "4138.27616223 \t0.536842105263 \t5.27257117926e-08", 
        "4138.27616223 \t0.547368421053 \t5.1398330944e-08", 
        "4138.27616223 \t0.557894736842 \t4.52120272134e-08", 
        "4138.27616223 \t0.568421052632 \t2.44712209158e-08", 
        "4138.27616223 \t0.578947368421 \t1.80418624e-10", 
        "4138.27616223 \t0.589473684211 \t1.95056489104e-07", 
        "4138.27616223 \t0.6 \t2.08675821619e-06", 
        "5273.30179746 \t0.4 \t5.29e-08", 
        "5273.30179746 \t0.410526315789 \t5.29e-08", 
        "5273.30179746 \t0.421052631579 \t5.29e-08", 
        "5273.30179746 \t0.431578947368 \t5.29e-08", 
        "5273.30179746 \t0.442105263158 \t5.29e-08", 
        "5273.30179746 \t0.452631578947 \t5.29e-08", 
        "5273.30179746 \t0.463157894737 \t5.29e-08", 
        "5273.30179746 \t0.473684210526 \t5.29e-08", 
        "5273.30179746 \t0.484210526316 \t5.29e-08", 
        "5273.30179746 \t0.494736842105 \t5.29e-08", 
        "5273.30179746 \t0.505263157895 \t5.29e-08", 
        "5273.30179746 \t0.515789473684 \t5.2894480144e-08", 
        "5273.30179746 \t0.526315789474 \t5.28039955974e-08", 
        "5273.30179746 \t0.536842105263 \t5.18301683738e-08", 
        "5273.30179746 \t0.547368421053 \t4.6796419095e-08", 
        "5273.30179746 \t0.557894736842 \t2.84707577958e-08", 
        "5273.30179746 \t0.568421052632 \t3.3641429056e-10", 
        "5273.30179746 \t0.578947368421 \t1.4295961e-07", 
        "5273.30179746 \t0.589473684211 \t1.79182854246e-06", 
        "5273.30179746 \t0.6 \t1.01687974866e-05", 
        "6719.63657257 \t0.4 \t5.29e-08", 
        "6719.63657257 \t0.410526315789 \t5.29e-08", 
        "6719.63657257 \t0.421052631579 \t5.29e-08", 
        "6719.63657257 \t0.431578947368 \t5.29e-08", 
        "6719.63657257 \t0.442105263158 \t5.29e-08", 
        "6719.63657257 \t0.452631578947 \t5.29e-08", 
        "6719.63657257 \t0.463157894737 \t5.29e-08", 
        "6719.63657257 \t0.473684210526 \t5.29e-08", 
        "6719.63657257 \t0.484210526316 \t5.29e-08", 
        "6719.63657257 \t0.494736842105 \t5.29e-08", 
        "6719.63657257 \t0.505263157895 \t5.28966880518e-08", 
        "6719.63657257 \t0.515789473684 \t5.28437109818e-08", 
        "6719.63657257 \t0.526315789474 \t5.21431744614e-08", 
        "6719.63657257 \t0.536842105263 \t4.8138115216e-08", 
        "6719.63657257 \t0.547368421053 \t3.23691913274e-08", 
        "6719.63657257 \t0.557894736842 \t2.184253696e-09", 
        "6719.63657257 \t0.568421052632 \t9.8988764775e-08", 
        "6719.63657257 \t0.578947368421 \t1.43367480115e-06", 
        "6719.63657257 \t0.589473684211 \t8.8205103403e-06", 
        "6719.63657257 \t0.6 \t4.4951028248e-05", 
        "8562.66479744 \t0.4 \t5.29e-08", 
        "8562.66479744 \t0.410526315789 \t5.29e-08", 
        "8562.66479744 \t0.421052631579 \t5.29e-08", 
        "8562.66479744 \t0.431578947368 \t5.29e-08", 
        "8562.66479744 \t0.442105263158 \t5.29e-08", 
        "8562.66479744 \t0.452631578947 \t5.29e-08", 
        "8562.66479744 \t0.463157894737 \t5.29e-08", 
        "8562.66479744 \t0.473684210526 \t5.29e-08", 
        "8562.66479744 \t0.484210526316 \t5.29e-08", 
        "8562.66479744 \t0.494736842105 \t5.28988960058e-08", 
        "8562.66479744 \t0.505263157895 \t5.28679888442e-08", 
        "8562.66479744 \t0.515789473684 \t5.23867868186e-08", 
        "8562.66479744 \t0.526315789474 \t4.92630454278e-08", 
        "8562.66479744 \t0.536842105263 \t3.60951361638e-08", 
        "8562.66479744 \t0.547368421053 \t5.5741156e-09", 
        "8562.66479744 \t0.557894736842 \t6.71842252806e-08", 
        "8562.66479744 \t0.568421052632 \t1.1580566378e-06", 
        "8562.66479744 \t0.578947368421 \t8.55715074802e-06", 
        "8562.66479744 \t0.589473684211 \t4.12050502215e-05", 
        "8562.66479744 \t0.6 \t0.000194991106451", 
        "10911.1895623 \t0.4 \t5.29e-08", 
        "10911.1895623 \t0.410526315789 \t5.29e-08", 
        "10911.1895623 \t0.421052631579 \t5.29e-08", 
        "10911.1895623 \t0.431578947368 \t5.29e-08", 
        "10911.1895623 \t0.442105263158 \t5.29e-08", 
        "10911.1895623 \t0.452631578947 \t5.29e-08", 
        "10911.1895623 \t0.463157894737 \t5.29e-08", 
        "10911.1895623 \t0.473684210526 \t5.29e-08", 
        "10911.1895623 \t0.484210526316 \t5.29e-08", 
        "10911.1895623 \t0.494736842105 \t5.2884545129e-08", 
        "10911.1895623 \t0.505263157895 \t5.25682178618e-08", 
        "10911.1895623 \t0.515789473684 \t5.02168659174e-08", 
        "10911.1895623 \t0.526315789474 \t3.92860941318e-08", 
        "10911.1895623 \t0.536842105263 \t9.59412414016e-09", 
        "10911.1895623 \t0.547368421053 \t4.1891282537e-08", 
        "10911.1895623 \t0.557894736842 \t9.43243425332e-07", 
        "10911.1895623 \t0.568421052632 \t6.8750937616e-06", 
        "10911.1895623 \t0.578947368421 \t3.84194485076e-05", 
        "10911.1895623 \t0.589473684211 \t0.000157109137753", 
        "10911.1895623 \t0.6 \t0.000261225061532", 
        "13903.8559236 \t0.4 \t5.29e-08", 
        "13903.8559236 \t0.410526315789 \t5.29e-08", 
        "13903.8559236 \t0.421052631579 \t5.29e-08", 
        "13903.8559236 \t0.431578947368 \t5.29e-08", 
        "13903.8559236 \t0.442105263158 \t5.29e-08", 
        "13903.8559236 \t0.452631578947 \t5.29e-08", 
        "13903.8559236 \t0.463157894737 \t5.29e-08", 
        "13903.8559236 \t0.473684210526 \t5.29e-08", 
        "13903.8559236 \t0.484210526316 \t5.28922722822e-08", 
        "13903.8559236 \t0.494736842105 \t5.2701466624e-08", 
        "13903.8559236 \t0.505263157895 \t5.09379621914e-08", 
        "13903.8559236 \t0.515789473684 \t4.20335284326e-08", 
        "13903.8559236 \t0.526315789474 \t1.4221039504e-08", 
        "13903.8559236 \t0.536842105263 \t2.3714521623e-08", 
        "13903.8559236 \t0.547368421053 \t7.77232665664e-07", 
        "13903.8559236 \t0.557894736842 \t6.11283296533e-06", 
        "13903.8559236 \t0.568421052632 \t3.52528897573e-05", 
        "13903.8559236 \t0.578947368421 \t0.000165294632036", 
        "13903.8559236 \t0.589473684211 \t0.000277445255129", 
        "13903.8559236 \t0.6 \t5.03929046496e-05", 
        "17717.3358082 \t0.4 \t5.29e-08", 
        "17717.3358082 \t0.410526315789 \t5.29e-08", 
        "17717.3358082 \t0.421052631579 \t5.29e-08", 
        "17717.3358082 \t0.431578947368 \t5.29e-08", 
        "17717.3358082 \t0.442105263158 \t5.29e-08", 
        "17717.3358082 \t0.452631578947 \t5.29e-08", 
        "17717.3358082 \t0.463157894737 \t5.29e-08", 
        "17717.3358082 \t0.473684210526 \t5.28955840922e-08", 
        "17717.3358082 \t0.484210526316 \t5.27896576e-08", 
        "17717.3358082 \t0.494736842105 \t5.15257312518e-08", 
        "17717.3358082 \t0.505263157895 \t4.43769614906e-08", 
        "17717.3358082 \t0.515789473684 \t1.90409089254e-08", 
        "17717.3358082 \t0.526315789474 \t1.09287788646e-08", 
        "17717.3358082 \t0.536842105263 \t6.01573974544e-07", 
        "17717.3358082 \t0.547368421053 \t5.49924261815e-06", 
        "17717.3358082 \t0.557894736842 \t2.89422308246e-05", 
        "17717.3358082 \t0.568421052632 \t0.00014117276075", 
        "17717.3358082 \t0.578947368421 \t0.000289143579429", 
        "17717.3358082 \t0.589473684211 \t5.03929046496e-05", 
        "17717.3358082 \t0.6 \t2.85703078144e-09", 
        "22576.7578337 \t0.4 \t5.29e-08", 
        "22576.7578337 \t0.410526315789 \t5.29e-08", 
        "22576.7578337 \t0.421052631579 \t5.29e-08", 
        "22576.7578337 \t0.431578947368 \t5.29e-08", 
        "22576.7578337 \t0.442105263158 \t5.29e-08", 
        "22576.7578337 \t0.452631578947 \t5.29e-08", 
        "22576.7578337 \t0.463157894737 \t5.2897792023e-08", 
        "22576.7578337 \t0.473684210526 \t5.2842607575e-08", 
        "22576.7578337 \t0.484210526316 \t5.1950443817e-08", 
        "22576.7578337 \t0.494736842105 \t4.62900388614e-08", 
        "22576.7578337 \t0.505263157895 \t2.3849736809e-08", 
        "22576.7578337 \t0.515789473684 \t3.64323302464e-09", 
        "22576.7578337 \t0.526315789474 \t4.41112756234e-07", 
        "22576.7578337 \t0.536842105263 \t4.54349346583e-06", 
        "22576.7578337 \t0.547368421053 \t2.69414480414e-05", 
        "22576.7578337 \t0.557894736842 \t0.00012045025624", 
        "22576.7578337 \t0.568421052632 \t0.000303931385242", 
        "22576.7578337 \t0.578947368421 \t5.03929046496e-05", 
        "22576.7578337 \t0.589473684211 \t2.85703078144e-09", 
        "22576.7578337 \t0.6 \t5.29e-08", 
        "28768.9977658 \t0.4 \t5.29e-08", 
        "28768.9977658 \t0.410526315789 \t5.29e-08", 
        "28768.9977658 \t0.421052631579 \t5.29e-08", 
        "28768.9977658 \t0.431578947368 \t5.29e-08", 
        "28768.9977658 \t0.442105263158 \t5.29e-08", 
        "28768.9977658 \t0.452631578947 \t5.29e-08", 
        "28768.9977658 \t0.463157894737 \t5.28679888442e-08", 
        "28768.9977658 \t0.473684210526 \t5.2272591424e-08", 
        "28768.9977658 \t0.484210526316 \t4.79203622118e-08", 
        "28768.9977658 \t0.494736842105 \t2.82508864e-08", 
        "28768.9977658 \t0.505263157895 \t2.8650301696e-10", 
        "28768.9977658 \t0.515789473684 \t3.26515330791e-07", 
        "28768.9977658 \t0.526315789474 \t3.8189695549e-06", 
        "28768.9977658 \t0.536842105263 \t2.55551521883e-05", 
        "28768.9977658 \t0.547368421053 \t0.000128206796248", 
        "28768.9977658 \t0.557894736842 \t0.000317925417927", 
        "28768.9977658 \t0.568421052632 \t7.57586550814e-05", 
        "28768.9977658 \t0.578947368421 \t2.85703078144e-09", 
        "28768.9977658 \t0.589473684211 \t5.29e-08", 
        "28768.9977658 \t0.6 \t5.29e-08", 
        "36659.6142166 \t0.4 \t5.29e-08", 
        "36659.6142166 \t0.410526315789 \t5.29e-08", 
        "36659.6142166 \t0.421052631579 \t5.29e-08", 
        "36659.6142166 \t0.431578947368 \t5.29e-08", 
        "36659.6142166 \t0.442105263158 \t5.29e-08", 
        "36659.6142166 \t0.452631578947 \t5.28867528294e-08", 
        "36659.6142166 \t0.463157894737 \t5.24967075866e-08", 
        "36659.6142166 \t0.473684210526 \t4.9198079081e-08", 
        "36659.6142166 \t0.484210526316 \t3.28259025126e-08", 
        "36659.6142166 \t0.494736842105 \t3.08915776e-10", 
        "36659.6142166 \t0.505263157895 \t2.43335418732e-07", 
        "36659.6142166 \t0.515789473684 \t3.2229297435e-06", 
        "36659.6142166 \t0.526315789474 \t2.15977690756e-05", 
        "36659.6142166 \t0.536842105263 \t0.000110978403954", 
        "36659.6142166 \t0.547368421053 \t0.00033149849041", 
        "36659.6142166 \t0.557894736842 \t7.55228713998e-05", 
        "36659.6142166 \t0.568421052632 \t2.85703078144e-09", 
        "36659.6142166 \t0.578947368421 \t5.29e-08", 
        "36659.6142166 \t0.589473684211 \t5.29e-08", 
        "36659.6142166 \t0.6 \t5.29e-08", 
        "46714.4293818 \t0.4 \t5.29e-08", 
        "46714.4293818 \t0.410526315789 \t5.29e-08", 
        "46714.4293818 \t0.421052631579 \t5.29e-08", 
        "46714.4293818 \t0.431578947368 \t5.29e-08", 
        "46714.4293818 \t0.442105263158 \t5.28922722822e-08", 
        "46714.4293818 \t0.452631578947 \t5.2664007785e-08", 
        "46714.4293818"
       ]
      }, 
      {
       "output_type": "stream", 
       "stream": "stdout", 
       "text": [
        " \t0.463157894737 \t5.02502162234e-08", 
        "46714.4293818 \t0.473684210526 \t3.68292945722e-08", 
        "46714.4293818 \t0.484210526316 \t2.80823685184e-09", 
        "46714.4293818 \t0.494736842105 \t1.59248245105e-07", 
        "46714.4293818 \t0.505263157895 \t2.74702514519e-06", 
        "46714.4293818 \t0.515789473684 \t2.05551755965e-05", 
        "46714.4293818 \t0.526315789474 \t0.000116918996717", 
        "46714.4293818 \t0.536842105263 \t0.000336663606415", 
        "46714.4293818 \t0.547368421053 \t9.91235289664e-05", 
        "46714.4293818 \t0.557894736842 \t2.85703078144e-09", 
        "46714.4293818 \t0.568421052632 \t5.29e-08", 
        "46714.4293818 \t0.578947368421 \t5.29e-08", 
        "46714.4293818 \t0.589473684211 \t5.29e-08", 
        "46714.4293818 \t0.6 \t5.29e-08", 
        "59527.0288326 \t0.4 \t5.29e-08", 
        "59527.0288326 \t0.410526315789 \t5.29e-08", 
        "59527.0288326 \t0.421052631579 \t5.29e-08", 
        "59527.0288326 \t0.431578947368 \t5.28966880518e-08", 
        "59527.0288326 \t0.442105263158 \t5.27709108486e-08", 
        "59527.0288326 \t0.452631578947 \t5.10626216762e-08", 
        "59527.0288326 \t0.463157894737 \t4.0374311609e-08", 
        "59527.0288326 \t0.473684210526 \t6.78106134784e-09", 
        "59527.0288326 \t0.484210526316 \t1.04715924483e-07", 
        "59527.0288326 \t0.494736842105 \t2.192929754e-06", 
        "59527.0288326 \t0.505263157895 \t1.75949644611e-05", 
        "59527.0288326 \t0.515789473684 \t0.000103325370912", 
        "59527.0288326 \t0.526315789474 \t0.000359748454625", 
        "59527.0288326 \t0.536842105263 \t0.000123848515674", 
        "59527.0288326 \t0.547368421053 \t3.834581776e-09", 
        "59527.0288326 \t0.557894736842 \t5.29e-08", 
        "59527.0288326 \t0.568421052632 \t5.29e-08", 
        "59527.0288326 \t0.578947368421 \t5.29e-08", 
        "59527.0288326 \t0.589473684211 \t5.29e-08", 
        "59527.0288326 \t0.6 \t5.29e-08", 
        "75853.8038146 \t0.4 \t5.29e-08", 
        "75853.8038146 \t0.410526315789 \t5.29e-08", 
        "75853.8038146 \t0.421052631579 \t5.28988960058e-08", 
        "75853.8038146 \t0.431578947368 \t5.28404007962e-08", 
        "75853.8038146 \t0.442105263158 \t5.16729275622e-08", 
        "75853.8038146 \t0.452631578947 \t4.3366563113e-08", 
        "75853.8038146 \t0.463157894737 \t1.1949987856e-08", 
        "75853.8038146 \t0.473684210526 \t6.3945866775e-08", 
        "75853.8038146 \t0.484210526316 \t1.76440214286e-06", 
        "75853.8038146 \t0.494736842105 \t1.51942543172e-05", 
        "75853.8038146 \t0.505263157895 \t9.16853742615e-05", 
        "75853.8038146 \t0.515789473684 \t0.000370394751389", 
        "75853.8038146 \t0.526315789474 \t0.000123848515674", 
        "75853.8038146 \t0.536842105263 \t3.834581776e-09", 
        "75853.8038146 \t0.547368421053 \t5.29e-08", 
        "75853.8038146 \t0.557894736842 \t5.29e-08", 
        "75853.8038146 \t0.568421052632 \t5.29e-08", 
        "75853.8038146 \t0.578947368421 \t5.29e-08", 
        "75853.8038146 \t0.589473684211 \t5.29e-08", 
        "75853.8038146 \t0.6 \t5.29e-08", 
        "96658.6047714 \t0.4 \t5.29e-08", 
        "96658.6047714 \t0.410526315789 \t5.29e-08", 
        "96658.6047714 \t0.421052631579 \t5.28679888442e-08", 
        "96658.6047714 \t0.431578947368 \t5.20850987066e-08", 
        "96658.6047714 \t0.442105263158 \t4.57114662458e-08", 
        "96658.6047714 \t0.452631578947 \t1.73982431258e-08", 
        "96658.6047714 \t0.463157894737 \t3.5004913216e-08", 
        "96658.6047714 \t0.473684210526 \t1.43957763098e-06", 
        "96658.6047714 \t0.484210526316 \t1.31876295593e-05", 
        "96658.6047714 \t0.494736842105 \t8.1978334826e-05", 
        "96658.6047714 \t0.505263157895 \t0.000390250985164", 
        "96658.6047714 \t0.515789473684 \t0.000146945405387", 
        "96658.6047714 \t0.526315789474 \t3.834581776e-09", 
        "96658.6047714 \t0.536842105263 \t5.29e-08", 
        "96658.6047714 \t0.547368421053 \t5.29e-08", 
        "96658.6047714 \t0.557894736842 \t5.29e-08", 
        "96658.6047714 \t0.568421052632 \t5.29e-08", 
        "96658.6047714 \t0.578947368421 \t5.29e-08", 
        "96658.6047714 \t0.589473684211 \t5.29e-08", 
        "96658.6047714 \t0.6 \t5.29e-08", 
        "123169.642213 \t0.4 \t5.29e-08", 
        "123169.642213 \t0.410526315789 \t5.28867528294e-08", 
        "123169.642213 \t0.421052631579 \t5.2398872464e-08", 
        "123169.642213 \t0.431578947368 \t4.7614033001e-08", 
        "123169.642213 \t0.442105263158 \t2.30631604634e-08", 
        "123169.642213 \t0.452631578947 \t1.63780613382e-08", 
        "123169.642213 \t0.463157894737 \t1.10739758704e-06", 
        "123169.642213 \t0.473684210526 \t1.16130354103e-05", 
        "123169.642213 \t0.484210526316 \t7.42709305858e-05", 
        "123169.642213 \t0.494736842105 \t0.00038460211497", 
        "123169.642213 \t0.505263157895 \t0.000169390162528", 
        "123169.642213 \t0.515789473684 \t3.834581776e-09", 
        "123169.642213 \t0.526315789474 \t5.29e-08", 
        "123169.642213 \t0.536842105263 \t5.29e-08", 
        "123169.642213 \t0.547368421053 \t5.29e-08", 
        "123169.642213 \t0.557894736842 \t5.29e-08", 
        "123169.642213 \t0.568421052632 \t5.29e-08", 
        "123169.642213 \t0.578947368421 \t5.29e-08", 
        "123169.642213 \t0.589473684211 \t5.29e-08", 
        "123169.642213 \t0.6 \t5.29e-08", 
        "156951.99407 \t0.4 \t5.2894480144e-08", 
        "156951.99407 \t0.410526315789 \t5.26111473894e-08", 
        "156951.99407 \t0.421052631579 \t4.9131027687e-08", 
        "156951.99407 \t0.431578947368 \t2.82815525094e-08", 
        "156951.99407 \t0.442105263158 \t5.05953380416e-09", 
        "156951.99407 \t0.452631578947 \t8.09126155807e-07", 
        "156951.99407 \t0.463157894737 \t1.02246815732e-05", 
        "156951.99407 \t0.473684210526 \t6.76448742022e-05", 
        "156951.99407 \t0.484210526316 \t0.000401265158813", 
        "156951.99407 \t0.494736842105 \t0.000169390162528", 
        "156951.99407 \t0.505263157895 \t6.9398104599e-08", 
        "156951.99407 \t0.515789473684 \t5.29e-08", 
        "156951.99407 \t0.526315789474 \t5.29e-08", 
        "156951.99407 \t0.536842105263 \t5.29e-08", 
        "156951.99407 \t0.547368421053 \t5.29e-08", 
        "156951.99407 \t0.557894736842 \t5.29e-08", 
        "156951.99407 \t0.568421052632 \t5.29e-08", 
        "156951.99407 \t0.578947368421 \t5.29e-08", 
        "156951.99407 \t0.589473684211 \t5.29e-08", 
        "156951.99407 \t0.6 \t5.29e-08", 
        "200000.0 \t0.4 \t5.27444505146e-08", 
        "200000.0 \t0.410526315789 \t5.03287945446e-08", 
        "200000.0 \t0.421052631579 \t3.3593904425e-08", 
        "200000.0 \t0.431578947368 \t5.1054306304e-10", 
        "200000.0 \t0.442105263158 \t5.9616558823e-07", 
        "200000.0 \t0.452631578947 \t8.36683856038e-06", 
        "200000.0 \t0.463157894737 \t6.21357232888e-05", 
        "200000.0 \t0.473684210526 \t0.000385946958996", 
        "200000.0 \t0.484210526316 \t0.00019096091381", 
        "200000.0 \t0.494736842105 \t6.9398104599e-08", 
        "200000.0 \t0.505263157895 \t4.6848351447e-08", 
        "200000.0 \t0.515789473684 \t5.29e-08", 
        "200000.0 \t0.526315789474 \t5.29e-08", 
        "200000.0 \t0.536842105263 \t5.29e-08", 
        "200000.0 \t0.547368421053 \t5.29e-08", 
        "200000.0 \t0.557894736842 \t5.29e-08", 
        "200000.0 \t0.568421052632 \t5.29e-08", 
        "200000.0 \t0.578947368421 \t5.29e-08", 
        "200000.0 \t0.589473684211 \t5.29e-08", 
        "200000.0 \t0.6 \t5.29e-08"
       ]
      }
     ], 
     "prompt_number": 71
    }, 
    {
     "cell_type": "code", 
     "collapsed": false, 
     "input": [
      "imshow([log10(Chi_square[0,:]),Chi_square[1,:], Chi_square[3,:]])"
     ], 
     "language": "python", 
     "outputs": [
      {
       "output_type": "pyout", 
       "prompt_number": 69, 
       "text": [
        "<matplotlib.image.AxesImage at 0x78181190>"
       ]
      }, 
      {
       "output_type": "display_data", 
       "png": "[encoded data removed]"
      }
     ], 
     "prompt_number": 69
    }, 
    {
     "cell_type": "code", 
     "collapsed": false, 
     "input": [
      "amax(Chi_square[:,2],0)"
     ], 
     "language": "python", 
     "outputs": [
      {
       "output_type": "pyout", 
       "prompt_number": 79, 
       "text": [
        "0.00040126515881281591"
       ]
      }
     ], 
     "prompt_number": 79
    }, 
    {
     "cell_type": "code", 
     "collapsed": false, 
     "input": [
      "index=where( Chi_square[:,2] >= 0.000401)"
     ], 
     "language": "python", 
     "outputs": [], 
     "prompt_number": 83
    }, 
    {
     "cell_type": "code", 
     "collapsed": false, 
     "input": [
      "print index"
     ], 
     "language": "python", 
     "outputs": [
      {
       "output_type": "stream", 
       "stream": "stdout", 
       "text": [
        "(array([368]),)"
       ]
      }
     ], 
     "prompt_number": 84
    }, 
    {
     "cell_type": "code", 
     "collapsed": false, 
     "input": [
      "print Chi_square[index[0],:]"
     ], 
     "language": "python", 
     "outputs": [
      {
       "output_type": "stream", 
       "stream": "stdout", 
       "text": [
        "[[  1.56951994e+05   4.84210526e-01   4.01265159e-04]]"
       ]
      }
     ], 
     "prompt_number": 85
    }, 
    {
     "cell_type": "code", 
     "collapsed": false, 
     "input": [
      "alpha = 1.56951994e+05", 
      "beta  = 4.84210526e-01", 
      "# $L = \\alpha * Halo_Mass ^ { \\beta}$", 
      "# Luminosity units: Sun Luminosity = $L_{\\odot}$", 
      "Log_Luminosity_halo_list = np.log10(alpha) + beta*M_halos_list ", 
      "", 
      "# $ Mag_{UV} = 5.61 - 2.5 * \\log ( L / L_\\odot )", 
      "Magnitude_UV_galaxy_list = 5.61 - 2.5 *  Log_Luminosity_halo_list[:] ", 
      "", 
      "Magnitude_min = np.amin(Magnitude_UV_galaxy_list)", 
      "Magnitude_max = np.amax(Magnitude_UV_galaxy_list)", 
      "Magnitude_BIN_width = (Magnitude_max - Magnitude_min)/BINS", 
      "", 
      "bins_mag = np.linspace( Magnitude_min, Magnitude_max, BINS )", 
      "N_Magnitude = np.zeros(BINS)", 
      "", 
      "for i in range( BINS-1 ):", 
      "    index = np.where((bins_mag[i]  <= Magnitude_UV_galaxy_list)&", 
      "                     (bins_mag[i+1] > Magnitude_UV_galaxy_list))", 
      "    N_Magnitude[i] = index[0].size", 
      "", 
      "N_Magnitude_norm = N_Magnitude / ( CELL_volume * Magnitude_BIN_width )", 
      "", 
      "#Observational data", 
      "Obs_data = np.array([", 
      "                     [-22.5,2.66E-8,9.08E-9,7.78E-8],", 
      "                     [-22.0,2.18E-6,8.70E-7,9.70E-6],", 
      "                     [-21.5,1.45E-5,2.88E-6,2.92E-5],", 
      "                     [-21.0,1.29E-4,7.06E-5,2.19E-4],", 
      "                     [-20.5,2.30E-4,9.34E-5,5.77E-4]", 
      "                    ])", 
      "", 
      "# Plotting Luminosity Function", 
      "# with observational data", 
      "plt.errorbar(Obs_data[:,0],Obs_data[:,1], Obs_data[:,2],Obs_data[:,3], label='Observational Data')", 
      "plt.semilogy(bins_mag,N_Magnitude_norm)", 
      "plt.title(\"Luminosity Function\")", 
      "plt.xlabel(\"Magnitude\")", 
      "plt.ylabel(r\"$\\log \\frac{dL}{dMag} $\")"
     ], 
     "language": "python", 
     "outputs": [
      {
       "output_type": "pyout", 
       "prompt_number": 86, 
       "text": [
        "<matplotlib.text.Text at 0x63400390>"
       ]
      }, 
      {
       "output_type": "display_data", 
       "png": "[encoded data removed]"
      }
     ], 
     "prompt_number": 86
    }, 
    {
     "cell_type": "code", 
     "collapsed": true, 
     "input": [], 
     "language": "python", 
     "outputs": []
    }
   ]
  }
 ]
}
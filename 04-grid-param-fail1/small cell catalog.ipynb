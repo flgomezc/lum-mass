{
 "metadata": {
  "name": "small cell catalog"
 }, 
 "nbformat": 2, 
 "worksheets": [
  {
   "cells": [
    {
     "cell_type": "code", 
     "collapsed": true, 
     "input": [
      "import numpy as np", 
      "import matplotlib.pyplot as plt", 
      "", 
      "#############################################", 
      "#                                           #", 
      "#            Loading data file              #", 
      "#                                           #", 
      "#############################################", 
      "data = np.loadtxt(", 
      "                  #'/home/flgomez10/lum-mass/data/MD_3840_Planck1/BDM/test.dat',", 
      "                  '/home/flgomez10/lum-mass/data/MD_3840_Planck1/BDM/reduced_catshortV_007.dat',", 
      "              # Reduce the memory usage from 'float64'(default) to 'float32'", 
      "                  'float64',", 
      "                  usecols=(0,1,2,3), skiprows=17)"
     ], 
     "language": "python", 
     "outputs": [], 
     "prompt_number": 1
    }, 
    {
     "cell_type": "code", 
     "collapsed": false, 
     "input": [
      "#Length units: Mpc h-1", 
      "length = 250", 
      "", 
      "x0 = 0", 
      "dx = length", 
      "", 
      "y0 = 0", 
      "dy = length", 
      "", 
      "z0 = 0", 
      "dz = length", 
      "", 
      "index = np.where(", 
      "                 ( data[:,0] >= x0 ) & ", 
      "                 ( data[:,0] <  x0+dx )&", 
      "                 ( data[:,1] >= y0 ) & ", 
      "                 ( data[:,1] <  y0+dy )&", 
      "                 ( data[:,2] >= y0 ) & ", 
      "                 ( data[:,2] <  y0+dy ) ", 
      "                 )", 
      "", 
      "#Small Cell Catalog", 
      "small_cat = np.zeros([index[0].size,4])", 
      "", 
      "j=0", 
      "for i in index[0]:", 
      "    for k in range(4):", 
      "        small_cat[j,k]=data[i,k]", 
      "    j+=1", 
      "    ", 
      "small_cat.size"
     ], 
     "language": "python", 
     "outputs": [
      {
       "output_type": "stream", 
       "stream": "stdout", 
       "text": [
        "[[  7.06680000e+00   9.74200000e-01   7.45170000e+00   3.31190000e+10]", 
        " [  4.79250000e+00   7.58220000e+00   3.97900000e-01   3.31190000e+10]", 
        " [  5.68390000e+00   6.05780000e+00   1.14320000e+00   3.16140000e+10]", 
        " ..., ", 
        " [  1.32401100e+02   1.26313000e+02   2.47419000e+02   4.81730000e+10]", 
        " [  1.25958300e+02   1.25377700e+02   2.43377500e+02   1.17420000e+11]", 
        " [  1.25557800e+02   1.26064100e+02   2.42789900e+02   4.36570000e+10]]"
       ]
      }
     ], 
     "prompt_number": 4
    }, 
    {
     "cell_type": "code", 
     "collapsed": true, 
     "input": [
      "f = open('/home/flgomez10/lum-mass/data/MD_3840_Planck1/BDM/small_cell.cat','w')", 
      "", 
      "", 
      "for line in small_cat:", 
      "    s = str(line[0])+\"\\t\"+str(line[1])+\"\\t\"+str(line[2])+\"\\t\"+str(line[3])+\"\\n\"", 
      "    f.write(s)", 
      "    ", 
      "f.close()"
     ], 
     "language": "python", 
     "outputs": [], 
     "prompt_number": 37
    }
   ]
  }
 ]
}
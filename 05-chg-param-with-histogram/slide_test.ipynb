{
 "metadata": {
  "name": ""
 },
 "nbformat": 3,
 "nbformat_minor": 0,
 "worksheets": [
  {
   "cells": [
    {
     "cell_type": "heading",
     "level": 1,
     "metadata": {
      "slideshow": {
       "slide_type": "slide"
      }
     },
     "source": [
      "The Final Set of Parameters\n"
     ]
    },
    {
     "cell_type": "markdown",
     "metadata": {
      "slideshow": {
       "slide_type": "slide"
      }
     },
     "source": [
      "I started with a catalgo of $~11\\times10^6$ halos.\n"
     ]
    },
    {
     "cell_type": "code",
     "collapsed": false,
     "input": [
      "from IPython.core.display import Image \n",
      "Image(url='https://raw.github.com/flgomezc/lum-mass/master/slice/slice0-15.png') \n"
     ],
     "language": "python",
     "metadata": {
      "slideshow": {
       "slide_type": "slide"
      }
     },
     "outputs": [
      {
       "html": [
        "<img src=\"https://raw.github.com/flgomezc/lum-mass/master/slice/slice0-15.png\"/>"
       ],
       "metadata": {},
       "output_type": "pyout",
       "prompt_number": 1,
       "text": [
        "<IPython.core.display.Image at 0x2ce4390>"
       ]
      }
     ],
     "prompt_number": 1
    },
    {
     "cell_type": "code",
     "collapsed": false,
     "input": [
      "from IPython.core.display import Image \n",
      "Image(url='https://raw.github.com/flgomezc/lum-mass/master/05-chg-param-with-histogram/00%20halo_mass_function.png') "
     ],
     "language": "python",
     "metadata": {},
     "outputs": [
      {
       "html": [
        "<img src=\"https://raw.github.com/flgomezc/lum-mass/master/05-chg-param-with-histogram/00%20halo_mass_function.png\"/>"
       ],
       "metadata": {},
       "output_type": "pyout",
       "prompt_number": 3,
       "text": [
        "<IPython.core.display.Image at 0x2ce4110>"
       ]
      }
     ],
     "prompt_number": 3
    },
    {
     "cell_type": "markdown",
     "metadata": {},
     "source": [
      "Assuming that each halo in the catalog contains one galaxy, and using the luminosity function \n",
      "\n",
      "$L = \\alpha M_H^\\beta $\n",
      "\n",
      "I gave a luminosity to each galaxy."
     ]
    },
    {
     "cell_type": "code",
     "collapsed": false,
     "input": [
      "from IPython.core.display import Image \n",
      "Image(url='https://raw.github.com/flgomezc/lum-mass/master/05-chg-param-with-histogram/00%20luminosity%20function.png') "
     ],
     "language": "python",
     "metadata": {},
     "outputs": [
      {
       "html": [
        "<img src=\"https://raw.github.com/flgomezc/lum-mass/master/05-chg-param-with-histogram/00%20luminosity%20function.png\"/>"
       ],
       "metadata": {},
       "output_type": "pyout",
       "prompt_number": 4,
       "text": [
        "<IPython.core.display.Image at 0x2ce4150>"
       ]
      }
     ],
     "prompt_number": 4
    },
    {
     "cell_type": "code",
     "collapsed": false,
     "input": [
      "from IPython.core.display import Image \n",
      "Image(url='https://raw.github.com/flgomezc/lum-mass/master/05-chg-param-with-histogram/00%20test10x10.png')"
     ],
     "language": "python",
     "metadata": {},
     "outputs": [
      {
       "html": [
        "<img src=\"https://raw.github.com/flgomezc/lum-mass/master/05-chg-param-with-histogram/00%20test10x10.png\"/>"
       ],
       "metadata": {},
       "output_type": "pyout",
       "prompt_number": 14,
       "text": [
        "<IPython.core.display.Image at 0x2cea9d0>"
       ]
      }
     ],
     "prompt_number": 14
    },
    {
     "cell_type": "code",
     "collapsed": false,
     "input": [
      "from IPython.core.display import Image \n",
      "Image(url='https://raw.github.com/flgomezc/lum-mass/master/05-chg-param-with-histogram/01%20test20x20.png')"
     ],
     "language": "python",
     "metadata": {},
     "outputs": [
      {
       "html": [
        "<img src=\"https://raw.github.com/flgomezc/lum-mass/master/05-chg-param-with-histogram/01%20test20x20.png\"/>"
       ],
       "metadata": {},
       "output_type": "pyout",
       "prompt_number": 15,
       "text": [
        "<IPython.core.display.Image at 0x2cea190>"
       ]
      }
     ],
     "prompt_number": 15
    },
    {
     "cell_type": "code",
     "collapsed": false,
     "input": [
      "from IPython.core.display import Image \n",
      "Image(url='https://raw.github.com/flgomezc/lum-mass/master/05-chg-param-with-histogram/02%20test4.png')"
     ],
     "language": "python",
     "metadata": {},
     "outputs": [
      {
       "html": [
        "<img src=\"https://raw.github.com/flgomezc/lum-mass/master/05-chg-param-with-histogram/02%20test4.png\"/>"
       ],
       "metadata": {},
       "output_type": "pyout",
       "prompt_number": 16,
       "text": [
        "<IPython.core.display.Image at 0x2cea2d0>"
       ]
      }
     ],
     "prompt_number": 16
    },
    {
     "cell_type": "code",
     "collapsed": false,
     "input": [
      "Image(url='https://raw.github.com/flgomezc/lum-mass/master/05-chg-param-with-histogram/03%20test5.png')\n"
     ],
     "language": "python",
     "metadata": {},
     "outputs": [
      {
       "html": [
        "<img src=\"https://raw.github.com/flgomezc/lum-mass/master/05-chg-param-with-histogram/03%20test5.png\"/>"
       ],
       "metadata": {},
       "output_type": "pyout",
       "prompt_number": 23,
       "text": [
        "<IPython.core.display.Image at 0x2cea990>"
       ]
      }
     ],
     "prompt_number": 23
    },
    {
     "cell_type": "code",
     "collapsed": false,
     "input": [
      "Image(url='https://raw.github.com/flgomezc/lum-mass/master/05-chg-param-with-histogram/04%20test6.png')"
     ],
     "language": "python",
     "metadata": {},
     "outputs": [
      {
       "html": [
        "<img src=\"https://raw.github.com/flgomezc/lum-mass/master/05-chg-param-with-histogram/04%20test6.png\"/>"
       ],
       "metadata": {},
       "output_type": "pyout",
       "prompt_number": 35,
       "text": [
        "<IPython.core.display.Image at 0x2e09050>"
       ]
      }
     ],
     "prompt_number": 35
    },
    {
     "cell_type": "code",
     "collapsed": false,
     "input": [
      "Image(url='https://raw.github.com/flgomezc/lum-mass/master/05-chg-param-with-histogram/05%20test7.png')\n"
     ],
     "language": "python",
     "metadata": {},
     "outputs": [
      {
       "html": [
        "<img src=\"https://raw.github.com/flgomezc/lum-mass/master/05-chg-param-with-histogram/05%20test7.png\"/>"
       ],
       "metadata": {},
       "output_type": "pyout",
       "prompt_number": 36,
       "text": [
        "<IPython.core.display.Image at 0x2e090d0>"
       ]
      }
     ],
     "prompt_number": 36
    },
    {
     "cell_type": "code",
     "collapsed": false,
     "input": [
      "Image(url='https://raw.github.com/flgomezc/lum-mass/master/05-chg-param-with-histogram/06%20test08.png')"
     ],
     "language": "python",
     "metadata": {},
     "outputs": [
      {
       "html": [
        "<img src=\"https://raw.github.com/flgomezc/lum-mass/master/05-chg-param-with-histogram/06%20test08.png\"/>"
       ],
       "metadata": {},
       "output_type": "pyout",
       "prompt_number": 39,
       "text": [
        "<IPython.core.display.Image at 0x2e09290>"
       ]
      }
     ],
     "prompt_number": 39
    },
    {
     "cell_type": "code",
     "collapsed": false,
     "input": [
      "Image(url='https://raw.github.com/flgomezc/lum-mass/master/05-chg-param-with-histogram/10%20test_08-12.png')"
     ],
     "language": "python",
     "metadata": {},
     "outputs": [
      {
       "html": [
        "<img src=\"https://raw.github.com/flgomezc/lum-mass/master/05-chg-param-with-histogram/10%20test_08-12.png\"/>"
       ],
       "metadata": {},
       "output_type": "pyout",
       "prompt_number": 40,
       "text": [
        "<IPython.core.display.Image at 0x2e09310>"
       ]
      }
     ],
     "prompt_number": 40
    },
    {
     "cell_type": "code",
     "collapsed": false,
     "input": [
      "Image(url='https://raw.github.com/flgomezc/lum-mass/master/05-chg-param-with-histogram/11%20test_alpha%5B400-4000%5D.png')"
     ],
     "language": "python",
     "metadata": {},
     "outputs": [
      {
       "html": [
        "<img src=\"https://raw.github.com/flgomezc/lum-mass/master/05-chg-param-with-histogram/11%20test_alpha%5B400-4000%5D.png\"/>"
       ],
       "metadata": {},
       "output_type": "pyout",
       "prompt_number": 41,
       "text": [
        "<IPython.core.display.Image at 0x2e09350>"
       ]
      }
     ],
     "prompt_number": 41
    },
    {
     "cell_type": "code",
     "collapsed": false,
     "input": [
      "Image(url='https://raw.github.com/flgomezc/lum-mass/master/05-chg-param-with-histogram/12%20test_beta%5B0.6-0.7%5D.png')"
     ],
     "language": "python",
     "metadata": {},
     "outputs": [
      {
       "html": [
        "<img src=\"https://raw.github.com/flgomezc/lum-mass/master/05-chg-param-with-histogram/12%20test_beta%5B0.6-0.7%5D.png\"/>"
       ],
       "metadata": {},
       "output_type": "pyout",
       "prompt_number": 42,
       "text": [
        "<IPython.core.display.Image at 0x2e09390>"
       ]
      }
     ],
     "prompt_number": 42
    },
    {
     "cell_type": "code",
     "collapsed": false,
     "input": [
      "Image(url='https://raw.github.com/flgomezc/lum-mass/master/05-chg-param-with-histogram/13%20final_set_of_parameters.png')"
     ],
     "language": "python",
     "metadata": {},
     "outputs": [
      {
       "html": [
        "<img src=\"https://raw.github.com/flgomezc/lum-mass/master/05-chg-param-with-histogram/13%20final_set_of_parameters.png\"/>"
       ],
       "metadata": {},
       "output_type": "pyout",
       "prompt_number": 43,
       "text": [
        "<IPython.core.display.Image at 0x2e09410>"
       ]
      }
     ],
     "prompt_number": 43
    },
    {
     "cell_type": "code",
     "collapsed": false,
     "input": [
      "Image(url='https://raw.github.com/flgomezc/lum-mass/master/05-chg-param-with-histogram/14%20beta%5B0.649+-0.04%5D.png')"
     ],
     "language": "python",
     "metadata": {},
     "outputs": [
      {
       "html": [
        "<img src=\"https://raw.github.com/flgomezc/lum-mass/master/05-chg-param-with-histogram/14%20beta%5B0.649+-0.04%5D.png\"/>"
       ],
       "metadata": {},
       "output_type": "pyout",
       "prompt_number": 44,
       "text": [
        "<IPython.core.display.Image at 0x2e09190>"
       ]
      }
     ],
     "prompt_number": 44
    },
    {
     "cell_type": "code",
     "collapsed": false,
     "input": [
      "Image(url='https://raw.github.com/flgomezc/lum-mass/master/05-chg-param-with-histogram/15%20Log10%28alpha%29%5B2.91+-0.28%5D.png')"
     ],
     "language": "python",
     "metadata": {},
     "outputs": [
      {
       "html": [
        "<img src=\"https://raw.github.com/flgomezc/lum-mass/master/05-chg-param-with-histogram/15%20Log10%28alpha%29%5B2.91+-0.28%5D.png\"/>"
       ],
       "metadata": {},
       "output_type": "pyout",
       "prompt_number": 45,
       "text": [
        "<IPython.core.display.Image at 0x2e091d0>"
       ]
      }
     ],
     "prompt_number": 45
    },
    {
     "cell_type": "code",
     "collapsed": false,
     "input": [
      "Image(url='https://raw.github.com/flgomezc/lum-mass/master/05-chg-param-with-histogram/16%20plot_best_fitting.png')"
     ],
     "language": "python",
     "metadata": {},
     "outputs": [
      {
       "html": [
        "<img src=\"https://raw.github.com/flgomezc/lum-mass/master/05-chg-param-with-histogram/16%20plot_best_fitting.png\"/>"
       ],
       "metadata": {},
       "output_type": "pyout",
       "prompt_number": 46,
       "text": [
        "<IPython.core.display.Image at 0x2e09450>"
       ]
      }
     ],
     "prompt_number": 46
    },
    {
     "cell_type": "markdown",
     "metadata": {},
     "source": [
      "Final set of parameters:\n",
      "\n",
      "$\\beta = 0.649 \\pm 0.040$\n",
      "\n",
      "$\\log_{10}(\\alpha) = 2.91 \\pm 0.29$"
     ]
    },
    {
     "cell_type": "code",
     "collapsed": false,
     "input": [],
     "language": "python",
     "metadata": {},
     "outputs": []
    }
   ],
   "metadata": {}
  }
 ]
}
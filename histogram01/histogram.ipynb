{
 "metadata": {
  "name": "histogram"
 }, 
 "nbformat": 2, 
 "worksheets": [
  {
   "cells": [
    {
     "cell_type": "code", 
     "collapsed": false, 
     "input": [
      "import nunmpy as np", 
      "", 
      "k = np.math.pow(400,0.01)", 
      "", 
      "#open the datafile", 
      "data = open('/home/flgomez10/lum-mass/data/MD_3840_Planck1/BDM/test.dat',\"r\")", 
      "#data = open('/home/flgomez10/lum-mass/data/MD_3840_Planck1/BDM/reduced_catshortV_007.dat',\"r\")", 
      "#read and ignore header lines", 
      "data.seek(0)", 
      "for i in range(0,17):", 
      "    data.readline()", 
      "    ", 
      "mass_min = 5e+10", 
      "mass_max = 5e+10", 
      "    ", 
      "for line in data:", 
      "    line = line.strip()", 
      "    columns = line.split()", 
      "    mass = float(columns[3])", 
      "#    print mass", 
      "    if( mass_min > mass):", 
      "        mass_min = mass", 
      "    if( mass_max < mass):", 
      "        mass_max = mass", 
      "            ", 
      "print \"Lower mass limit = \", mass_min, \"\\nUpper mass limit = \", mass_max", 
      "", 
      "bins = np.array[100]", 
      "# it takes around 20.4 seconds", 
      "# For /home/flgomez10/lum-mass/data/MD_3840_Planck1/BDM/reduced_catshortV_007.dat", 
      "# Lower mass limit =  15054000000.0 ", 
      "# Upper mass limit =  5.9434e+12"
     ], 
     "language": "python", 
     "outputs": []
    }
   ]
  }
 ]
}
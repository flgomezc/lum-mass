{
 "metadata": {
  "name": "histogram_2"
 }, 
 "nbformat": 2, 
 "worksheets": [
  {
   "cells": [
    {
     "cell_type": "code", 
     "collapsed": false, 
     "input": [
      "import numpy as np", 
      "#open the datafile", 
      "#data = open('/home/flgomez10/lum-mass/data/MD_3840_Planck1/BDM/test.dat',\"r\")", 
      "data = open('/home/flgomez10/lum-mass/data/MD_3840_Planck1/BDM/reduced_catshortV_007.dat',\"r\")", 
      "", 
      "#bin range & counter", 
      "mass_hist = np.zeros(100)", 
      "mass_bin = np.zeros(100)", 
      "mass_bin[0] = 1.5e+10", 
      "for i in range (1,100):", 
      "    mass_bin[i] = mass_bin[i-1]*np.math.pow(425,0.01)", 
      "", 
      "#read and ignore header lines", 
      "data.seek(0)", 
      "for i in range(0,17):", 
      "    data.readline()", 
      "    ", 
      "for line in data:", 
      "    line = line.strip()", 
      "    columns = line.split()", 
      "    mass = float(columns[3])", 
      "    i = 0", 
      "    while mass > mass_bin[i]:", 
      "       i += 1", 
      "    mass_hist[i-1] += 1", 
      "#    print mass_bin[i], mass, mass_bin[i+1], mass_hist[i], i", 
      "data.close()    ", 
      "", 
      "", 
      "#number of haloes in the file", 
      "N = 10937974-17", 
      "", 
      "datos = open(\"datos.dat\", \"w\")", 
      "datos.write(\"mass\\tdensity\\n\")", 
      "for i in xrange(0,100):", 
      "    datos.write(str(mass_bin[i])+\"\\t\"+str(mass_hist[i])+\"\\n\")", 
      "datos.close()"
     ], 
     "language": "python", 
     "outputs": [
      {
       "ename": "KeyboardInterrupt", 
       "evalue": "", 
       "output_type": "pyerr", 
       "traceback": [
        "\u001b[0;31m---------------------------------------------------------------------------\u001b[0m\n\u001b[0;31mKeyboardInterrupt\u001b[0m                         Traceback (most recent call last)", 
        "\u001b[0;32m/home/flgomez10/lum-mass/histogram/<ipython-input-2-96b09c906fdc>\u001b[0m in \u001b[0;36m<module>\u001b[0;34m()\u001b[0m\n\u001b[1;32m     21\u001b[0m     \u001b[0mmass\u001b[0m \u001b[0;34m=\u001b[0m \u001b[0mfloat\u001b[0m\u001b[0;34m(\u001b[0m\u001b[0mcolumns\u001b[0m\u001b[0;34m[\u001b[0m\u001b[0;36m3\u001b[0m\u001b[0;34m]\u001b[0m\u001b[0;34m)\u001b[0m\u001b[0;34m\u001b[0m\u001b[0m\n\u001b[1;32m     22\u001b[0m     \u001b[0mi\u001b[0m \u001b[0;34m=\u001b[0m \u001b[0;36m0\u001b[0m\u001b[0;34m\u001b[0m\u001b[0m\n\u001b[0;32m---> 23\u001b[0;31m     \u001b[0;32mwhile\u001b[0m \u001b[0mmass\u001b[0m \u001b[0;34m>\u001b[0m \u001b[0mmass_bin\u001b[0m\u001b[0;34m[\u001b[0m\u001b[0mi\u001b[0m\u001b[0;34m]\u001b[0m\u001b[0;34m:\u001b[0m\u001b[0;34m\u001b[0m\u001b[0m\n\u001b[0m\u001b[1;32m     24\u001b[0m        \u001b[0mi\u001b[0m \u001b[0;34m+=\u001b[0m \u001b[0;36m1\u001b[0m\u001b[0;34m\u001b[0m\u001b[0m\n\u001b[1;32m     25\u001b[0m     \u001b[0mmass_hist\u001b[0m\u001b[0;34m[\u001b[0m\u001b[0mi\u001b[0m\u001b[0;34m-\u001b[0m\u001b[0;36m1\u001b[0m\u001b[0;34m]\u001b[0m \u001b[0;34m+=\u001b[0m \u001b[0;36m1\u001b[0m\u001b[0;34m\u001b[0m\u001b[0m\n", 
        "\u001b[0;31mKeyboardInterrupt\u001b[0m: "
       ]
      }
     ], 
     "prompt_number": 2
    }, 
    {
     "cell_type": "code", 
     "collapsed": true, 
     "input": [], 
     "language": "python", 
     "outputs": []
    }
   ]
  }
 ]
}
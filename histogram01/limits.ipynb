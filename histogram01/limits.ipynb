{
 "metadata": {
  "name": "limits"
 }, 
 "nbformat": 2, 
 "worksheets": [
  {
   "cells": [
    {
     "cell_type": "code", 
     "collapsed": true, 
     "input": [
      "data = open('/home/flgomez10/lum-mass/data/MD_3840_Planck1/BDM/reduced_catshortV_007.dat',\"r\")", 
      "#print data"
     ], 
     "language": "python", 
     "outputs": [], 
     "prompt_number": 42
    }, 
    {
     "cell_type": "code", 
     "collapsed": false, 
     "input": [
      "data.readline(1)"
     ], 
     "language": "python", 
     "outputs": [
      {
       "output_type": "pyout", 
       "prompt_number": 7, 
       "text": [
        "'s'"
       ]
      }
     ], 
     "prompt_number": 7
    }, 
    {
     "cell_type": "code", 
     "collapsed": false, 
     "input": [
      "data = open('/home/flgomez10/lum-mass/data/MD_3840_Planck1/BDM/test.dat',\"r\")", 
      "print data"
     ], 
     "language": "python", 
     "outputs": [
      {
       "output_type": "stream", 
       "stream": "stdout", 
       "text": [
        "<open file '/home/flgomez10/lum-mass/data/MD_3840_Planck1/BDM/test.dat', mode 'r' at 0x2476b70>"
       ]
      }
     ], 
     "prompt_number": 8
    }, 
    {
     "cell_type": "code", 
     "collapsed": true, 
     "input": [
      "#data.read()"
     ], 
     "language": "python", 
     "outputs": [], 
     "prompt_number": 40
    }, 
    {
     "cell_type": "code", 
     "collapsed": false, 
     "input": [
      "data.seek(0)", 
      "data.readline(800)"
     ], 
     "language": "python", 
     "outputs": [
      {
       "output_type": "pyout", 
       "prompt_number": 32, 
       "text": [
        "'bigMD2.5Om27   \\n'"
       ]
      }
     ], 
     "prompt_number": 32
    }, 
    {
     "cell_type": "code", 
     "collapsed": false, 
     "input": [
      "data.seek(0)", 
      "", 
      "for line in data:", 
      "    print line"
     ], 
     "language": "python", 
     "outputs": [
      {
       "output_type": "stream", 
       "stream": "stdout", 
       "text": [
        "bigMD2.5Om27   ", 
        "", 
        "A = 0.14290 ", 
        "", 
        "I = 0 Ngrid=", 
        "", 
        "Omega_0= 0.30711 Omega_L= 0.67770", 
        "", 
        "Force softening (kpch) ", 
        "", 
        "Minimum distance between ", 
        "", 
        "Number of neighbours 20", 
        "", 
        "Number of buffered ", 
        "", 
        "Split factor for 8", 
        "", 
        "Number of radial ", 
        "", 
        "Step in radius ", 
        "", 
        "Mass of smallest 1.5054E+09", 
        "", 
        "Subhalos rejection: virial ", 
        "", 
        "offset parameter limit ", 
        "", 
        "radius overshoot factor ", 
        "", 
        "Overdensity limit = ", 
        "", 
        "XYZ(Mpch) Vxyz(km/s) Mbound Vcirc(km/s)", 
        "", 
        "7.0668 0.9742 7.4517 3.3119E+10", 
        "", 
        "4.7925 7.5822 0.3979 3.3119E+10", 
        "", 
        "5.6839 6.0578 1.1432 3.1614E+10", 
        "", 
        "5.5161 7.2083 0.5133 3.4624E+10", 
        "", 
        "7.4648 6.6555 1.6560 5.8711E+10", 
        "", 
        "7.5830 6.2340 1.7513 5.7206E+10", 
        "", 
        "7.6926 6.0763 1.7280 6.4733E+10", 
        "", 
        "5.0360 11.1702 6.7736 4.6668E+10", 
        "", 
        "7.6110 9.9797 6.4181 4.3657E+10", 
        "", 
        "6.5610 11.5009 6.8864 3.0108E+10", 
        "", 
        "7.3760 11.3880 7.2009 3.3119E+10", 
        "", 
        "7.7579 11.7235 5.9247 6.0216E+10", 
        "", 
        "7.7855 12.3263 6.1063 3.5528E+11", 
        "", 
        "7.5961 12.3733 5.9248 1.2645E+11", 
        "", 
        "4.6605 11.8654 7.2170 1.1893E+11", 
        "", 
        "6.1987 13.3835 4.1537 4.0646E+10", 
        "", 
        "6.6758 12.1134 4.4226 4.0646E+10", 
        "", 
        "7.1908 12.6362 5.5399 3.0108E+10", 
        "", 
        "5.9563 15.1549 1.9803 3.0108E+10", 
        "", 
        "6.0133 15.1741 2.1076 4.2151E+10", 
        "", 
        "7.2497 8.6476 2.8396 3.0108E+10"
       ]
      }
     ], 
     "prompt_number": 35
    }, 
    {
     "cell_type": "code", 
     "collapsed": false, 
     "input": [
      "print line"
     ], 
     "language": "python", 
     "outputs": [
      {
       "output_type": "stream", 
       "stream": "stdout", 
       "text": [
        "7.2497 8.6476 2.8396 3.0108E+10"
       ]
      }
     ], 
     "prompt_number": 38
    }, 
    {
     "cell_type": "code", 
     "collapsed": false, 
     "input": [
      "line"
     ], 
     "language": "python", 
     "outputs": [
      {
       "output_type": "pyout", 
       "prompt_number": 39, 
       "text": [
        "'7.2497 8.6476 2.8396 3.0108E+10\\n'"
       ]
      }
     ], 
     "prompt_number": 39
    }, 
    {
     "cell_type": "code", 
     "collapsed": false, 
     "input": [
      "line.strip()"
     ], 
     "language": "python", 
     "outputs": [
      {
       "output_type": "pyout", 
       "prompt_number": 43, 
       "text": [
        "'7.2497 8.6476 2.8396 3.0108E+10'"
       ]
      }
     ], 
     "prompt_number": 43
    }, 
    {
     "cell_type": "code", 
     "collapsed": true, 
     "input": [
      "columns = line.split()"
     ], 
     "language": "python", 
     "outputs": [], 
     "prompt_number": 44
    }, 
    {
     "cell_type": "code", 
     "collapsed": false, 
     "input": [
      "columns"
     ], 
     "language": "python", 
     "outputs": [
      {
       "output_type": "pyout", 
       "prompt_number": 45, 
       "text": [
        "['7.2497', '8.6476', '2.8396', '3.0108E+10']"
       ]
      }
     ], 
     "prompt_number": 45
    }, 
    {
     "cell_type": "code", 
     "collapsed": false, 
     "input": [
      "mass = float(columns[3])", 
      "mass"
     ], 
     "language": "python", 
     "outputs": [
      {
       "output_type": "pyout", 
       "prompt_number": 48, 
       "text": [
        "30108000000.0"
       ]
      }
     ], 
     "prompt_number": 48
    }, 
    {
     "cell_type": "code", 
     "collapsed": false, 
     "input": [
      "#open the datafile", 
      "data = open('/home/flgomez10/lum-mass/data/MD_3840_Planck1/BDM/test.dat',\"r\")", 
      "#data = open('/home/flgomez10/lum-mass/data/MD_3840_Planck1/BDM/reduced_catshortV_007.dat',\"r\")", 
      "#read and ignore header lines", 
      "data.seek(0)", 
      "for i in range(0,17):", 
      "    data.readline()", 
      "    ", 
      "mass_min = 5e+10", 
      "mass_max = 5e+10", 
      "    ", 
      "for line in data:", 
      "    line = line.strip()", 
      "    columns = line.split()", 
      "    mass = float(columns[3])", 
      "    print mass", 
      "    if( mass_min > mass):", 
      "        mass_min = mass", 
      "    if( mass_max < mass):", 
      "        mass_max = mass", 
      "            ", 
      "print \"Lower mass limit = \", mass_min, \", Upper mass limit = \", mass_max"
     ], 
     "language": "python", 
     "outputs": [
      {
       "output_type": "stream", 
       "stream": "stdout", 
       "text": [
        "33119000000.0", 
        "33119000000.0", 
        "31614000000.0", 
        "34624000000.0", 
        "58711000000.0", 
        "57206000000.0", 
        "64733000000.0", 
        "46668000000.0", 
        "43657000000.0", 
        "30108000000.0", 
        "33119000000.0", 
        "60216000000.0", 
        "3.5528e+11", 
        "1.2645e+11", 
        "1.1893e+11", 
        "40646000000.0", 
        "40646000000.0", 
        "30108000000.0", 
        "30108000000.0", 
        "42151000000.0", 
        "30108000000.0", 
        "Lower mass limit =  30108000000.0 , Upper mass limit =  3.5528e+11"
       ]
      }
     ], 
     "prompt_number": 72
    }, 
    {
     "cell_type": "code", 
     "collapsed": true, 
     "input": [
      "\"\"\"", 
      "In reduced_catshortV_007.dat :", 
      "", 
      "Lower mass limit =  15054000000.0 ", 
      "Upper mass limit =  5.9434e+12", 
      "\"\"\""
     ], 
     "language": "python", 
     "outputs": []
    }
   ]
  }
 ]
}
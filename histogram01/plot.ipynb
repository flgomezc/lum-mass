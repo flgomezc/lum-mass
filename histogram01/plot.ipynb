{
 "metadata": {
  "name": "plot"
 }, 
 "nbformat": 2, 
 "worksheets": [
  {
   "cells": [
    {
     "cell_type": "code", 
     "collapsed": true, 
     "input": [
      "import numpy as np", 
      "import matplotlib.pyplot as plt", 
      "", 
      "data = open(\"datos.dat\", \"r\")", 
      "data.readline()", 
      "mass_hist = np.zeros(50)", 
      "mass_bin = np.zeros(50)", 
      "", 
      "i=0", 
      "for line in data:", 
      "    line = line.strip()", 
      "    columns = line.split()", 
      "    mass = float(columns[0])", 
      "    hist = float(columns[1])", 
      "    mass_hist[i]=hist", 
      "    mass_bin[i]=mass", 
      "    i +=1"
     ], 
     "language": "python", 
     "outputs": [], 
     "prompt_number": 17
    }, 
    {
     "cell_type": "code", 
     "collapsed": false, 
     "input": [
      "mass_hist += 1", 
      "#box volume: 1000x1000x1000 Mpc\u00b3 h\u207b\u00b3", 
      "mass_hist /= 1e9", 
      "#mass_hist /= (10937974-13)", 
      "", 
      "print mass_bin, mass_hist"
     ], 
     "language": "python", 
     "outputs": [
      {
       "output_type": "stream", 
       "stream": "stdout", 
       "text": [
        "[  1.50000000e+10   1.69851998e+10   1.92331341e+10   2.17785750e+10", 
        "   2.46608964e+10   2.79246835e+10   3.16204218e+10   3.58052788e+10", 
        "   4.05439875e+10   4.59098485e+10   5.19858632e+10   5.88660182e+10", 
        "   6.66567385e+10   7.54785347e+10   8.54678660e+10   9.67792518e+10", 
        "   1.09587662e+11   1.24091222e+11   1.40514279e+11   1.59110874e+11", 
        "   1.80168665e+11   2.04013385e+11   2.31013873e+11   2.61587785e+11", 
        "   2.96208053e+11   3.35410197e+11   3.79800613e+11   4.30065952e+11", 
        "   4.86983741e+11   5.51434408e+11   6.24414906e+11   7.07054127e+11", 
        "   8.00630373e+11   9.06591122e+11   1.02657542e+12   1.16243924e+12", 
        "   1.31628418e+12   1.49048999e+12   1.68775134e+12   1.91111958e+12", 
        "   2.16404986e+12   2.45045461e+12   2.77476407e+12   3.14199481e+12", 
        "   3.55782730e+12   4.02869383e+12   4.56187796e+12   5.16562723e+12", 
        "   5.84928070e+12   6.62341341e+12] [  1.40250000e-05   1.21460000e-05   4.73940000e-05   1.32037000e-04", 
        "   4.80730000e-04   2.36733900e-03   1.19618400e-03   1.27455000e-03", 
        "   1.15116800e-03   8.05917000e-04   7.22884000e-04   5.16553000e-04", 
        "   4.54353000e-04   3.30000000e-04   3.18438000e-04   2.25638000e-04", 
        "   2.02868000e-04   1.54328000e-04   1.19262000e-04   9.71570000e-05", 
        "   7.61950000e-05   5.84820000e-05   4.48720000e-05   3.48880000e-05", 
        "   2.65100000e-05   2.03190000e-05   1.46650000e-05   1.08510000e-05", 
        "   8.54100000e-06   5.93400000e-06   4.30700000e-06   2.91400000e-06", 
        "   2.09800000e-06   1.46300000e-06   1.02200000e-06   6.92000000e-07", 
        "   4.59000000e-07   3.05000000e-07   1.99000000e-07   1.39000000e-07", 
        "   8.10000000e-08   4.40000000e-08   2.50000000e-08   1.30000000e-08", 
        "   6.00000000e-09   4.00000000e-09   3.00000000e-09   2.00000000e-09", 
        "   2.00000000e-09   1.00000000e-09]"
       ]
      }
     ], 
     "prompt_number": 18
    }, 
    {
     "cell_type": "code", 
     "collapsed": false, 
     "input": [
      "plt.loglog( mass_bin, mass_hist )", 
      "plt.title(\"Mass Density Function\")", 
      "plt.xlabel(r\"$\\log_{10} M_\\odot$\")", 
      "plt.ylabel(r\"$\\log \\frac{dM}{dN}\\left( Mpc^3 h^{-1} \\right)$\")", 
      "plt.show()"
     ], 
     "language": "python", 
     "outputs": [], 
     "prompt_number": 22
    }, 
    {
     "cell_type": "code", 
     "collapsed": true, 
     "input": [], 
     "language": "python", 
     "outputs": [], 
     "prompt_number": 21
    }, 
    {
     "cell_type": "code", 
     "collapsed": true, 
     "input": [], 
     "language": "python", 
     "outputs": []
    }
   ]
  }
 ]
}
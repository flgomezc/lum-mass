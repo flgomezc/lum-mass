{
 "metadata": {
  "name": "histo_test"
 }, 
 "name": "histo_test", 
 "nbformat": 2, 
 "worksheets": [
  {
   "cells": [
    {
     "cell_type": "code", 
     "collapsed": false, 
     "input": [
      "import numpy as np", 
      "", 
      "#Importa el archivo como un array con las columnas", 
      "# x, y, z, M", 
      "data = np.loadtxt(", 
      "                   '/home/flgomez10/lum-mass/data/MD_3840_Planck1/BDM/test.dat',", 
      "                   usecols=(0,1,2,3), skiprows=17)"
     ], 
     "language": "python", 
     "outputs": [], 
     "prompt_number": 1
    }, 
    {
     "cell_type": "code", 
     "collapsed": false, 
     "input": [
      "#print data.ndim", 
      "#print data.shape", 
      "#b = np.zeros(data.shape[0])", 
      "M_halos_list = np.zeros(data.shape[0])", 
      "M_max = 10.5", 
      "M_min = 10.5", 
      "", 
      "for i in xrange(0, data.shape[0]):", 
      "#    b[i] = np.log10( data[i,3])", 
      "    M_halos_list[i] = np.log10(data[i,3])", 
      "    if M_halos_list[i] > M_max:", 
      "        M_max = M_halos_list[i]", 
      "    if M_halos_list[i] < M_min:", 
      "        M_min = M_halos_list[i]", 
      "        ", 
      "print M_min, M_max", 
      "    ", 
      "#    x.append(data[i,3])", 
      "    ", 
      "#print data, x", 
      "", 
      "#for i in range (0, data.shape[0]):", 
      "#    x = data", 
      "", 
      "", 
      "#print np.amin(x)", 
      "    ", 
      "#for i in data[i]:", 
      "#    data[i,3] = np.log10(data[i,3])"
     ], 
     "language": "python", 
     "outputs": [
      {
       "output_type": "stream", 
       "stream": "stdout", 
       "text": [
        "10.4786819074 11.5505707602"
       ]
      }
     ], 
     "prompt_number": 2
    }, 
    {
     "cell_type": "code", 
     "collapsed": false, 
     "input": [
      "BINS = 20", 
      "log_part_array = np.linspace( M_min, M_max, BINS )", 
      "N_halos = np.zeros(BINS)", 
      "print log_part_array", 
      "print N_halos"
     ], 
     "language": "python", 
     "outputs": [
      {
       "output_type": "stream", 
       "stream": "stdout", 
       "text": [
        "[ 10.47868191  10.53509711  10.59151231  10.64792752  10.70434272", 
        "  10.76075792  10.81717312  10.87358833  10.93000353  10.98641873", 
        "  11.04283394  11.09924914  11.15566434  11.21207954  11.26849475", 
        "  11.32490995  11.38132515  11.43774035  11.49415556  11.55057076]", 
        "[ 0.  0.  0.  0.  0.  0.  0.  0.  0.  0.  0.  0.  0.  0.  0.  0.  0.  0.", 
        "  0.  0.]"
       ]
      }
     ], 
     "prompt_number": 3
    }, 
    {
     "cell_type": "code", 
     "collapsed": false, 
     "input": [
      "for i in range( BINS-1 ):", 
      "    index = np.where((log_part_array[i] <= M_halos_list)&", 
      "                     (log_part_array[i+1] > M_halos_list))", 
      "#    print index[0].size", 
      "    N_halos[i] = index[0].size", 
      "print N_halos"
     ], 
     "language": "python", 
     "outputs": [
      {
       "output_type": "stream", 
       "stream": "stdout", 
       "text": [
        "[ 8.  1.  4.  1.  1.  3.  0.  0.  0.  0.  1.  1.  0.  0.  0.  0.  0.  0.", 
        "  0.  0.]"
       ]
      }
     ], 
     "prompt_number": 4
    }, 
    {
     "cell_type": "code", 
     "collapsed": false, 
     "input": [
      "import matplotlib.pyplot as plt", 
      "plt.plot( log_part_array, N_halos)", 
      "plt.show()"
     ], 
     "language": "python", 
     "outputs": [], 
     "prompt_number": 9
    }, 
    {
     "cell_type": "code", 
     "collapsed": true, 
     "input": [], 
     "language": "python", 
     "outputs": []
    }
   ]
  }
 ]
}
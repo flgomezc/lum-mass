{
 "metadata": {
  "name": "numpy insert array"
 }, 
 "nbformat": 2, 
 "worksheets": [
  {
   "cells": [
    {
     "cell_type": "code", 
     "collapsed": false, 
     "input": [
      "import numpy as np", 
      "import matplotlib.pyplot as plt", 
      "BINS = 20", 
      "", 
      "", 
      "A = np.zeros((3,3))", 
      "print \"A=\\n\", A, \"\\n\"", 
      "B = ([1,2,3])", 
      "print \"B=\", B, \"\\n\"", 
      "#np.insert(arr, obj, values, axis=None)", 
      "C = np.insert( A,2,B, axis=1)", 
      "print \"C= np.insert( A,2,B, axis=1)\\n\"", 
      "print \"C=\\n\", C , \"\\n\"", 
      "#np.insert(arr, obj, values, axis=None)", 
      "print \"D = np.insert( A,2,B, axis=0) \\n\"", 
      "D = np.insert( A,2,B, axis=0)", 
      "print \"D=\\n\",D"
     ], 
     "language": "python", 
     "outputs": [
      {
       "output_type": "stream", 
       "stream": "stdout", 
       "text": [
        "A=", 
        "[[ 0.  0.  0.]", 
        " [ 0.  0.  0.]", 
        " [ 0.  0.  0.]] ", 
        "", 
        "B= [1, 2, 3] ", 
        "", 
        "C= np.insert( A,2,B, axis=1)", 
        "", 
        "C=", 
        "[[ 0.  0.  1.  0.]", 
        " [ 0.  0.  2.  0.]", 
        " [ 0.  0.  3.  0.]] ", 
        "", 
        "D = np.insert( A,2,B, axis=0) ", 
        "", 
        "D=", 
        "[[ 0.  0.  0.]", 
        " [ 0.  0.  0.]", 
        " [ 1.  2.  3.]", 
        " [ 0.  0.  0.]]"
       ]
      }
     ], 
     "prompt_number": 56
    }
   ]
  }
 ]
}
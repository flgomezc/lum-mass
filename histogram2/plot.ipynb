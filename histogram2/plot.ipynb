{
 "metadata": {
  "name": "plot"
 }, 
 "name": "plot", 
 "nbformat": 2, 
 "worksheets": [
  {
   "cells": [
    {
     "cell_type": "code", 
     "collapsed": false, 
     "input": "import numpy as np\nimport matplotlib.pyplot as plt\nBINS = np.array( [ 10.17765191,  10.31430365,  10.45095539,  10.58760713,  10.72425887,\n  10.86091061,  10.99756235,  11.13421409,  11.27086583,  11.40751757,\n  11.54416931,  11.68082104,  11.81747278,  11.95412452 , 12.09077626,\n  12.227428 ,   12.36407974 , 12.50073148  ,12.63738322 , 12.77403496]\n)    \nN_Halos = np.array([  4.44880000e+04,   6.41839000e+05,   4.46603100e+06,   2.49447000e+06,\n   1.39411500e+06,   8.45885000e+05,   4.83063000e+05,   2.75023000e+05,\n   1.49992000e+05,   7.66710000e+04 ,  3.69410000e+04,   1.76510000e+04,\n   7.23600000e+03 ,  2.94500000e+03,   1.10000000e+03 ,  3.75000000e+02,\n   1.09000000e+02 ,  1.80000000e+01 ,  4.00000000e+00 ,  0.00000000e+00]\n)\nN_Halos /= 10937957", 
     "language": "python", 
     "outputs": [], 
     "prompt_number": 30
    }, 
    {
     "cell_type": "code", 
     "collapsed": false, 
     "input": "plt.semilogy(BINS, N_Halos)\nplt.title(\"Mass Density Function\")\nplt.xlabel(r\"$\\log_{10} M_\\odot$\")\nplt.ylabel(r\"$\\log \\frac{dM}{dN}\\left( Mpc^3 h^{-1} \\right)$\")\nplt.show()", 
     "language": "python", 
     "outputs": [], 
     "prompt_number": 33
    }, 
    {
     "cell_type": "code", 
     "collapsed": true, 
     "input": "", 
     "language": "python", 
     "outputs": []
    }
   ]
  }
 ]
}
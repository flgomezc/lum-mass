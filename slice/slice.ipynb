{
 "metadata": {
  "name": "slice"
 }, 
 "nbformat": 2, 
 "worksheets": [
  {
   "cells": [
    {
     "cell_type": "code", 
     "collapsed": true, 
     "input": [
      "import numpy as np", 
      "import matplotlib.pyplot as plt", 
      "", 
      "#############################################", 
      "#                                           #", 
      "#            Loading data file              #", 
      "#                                           #", 
      "#############################################", 
      "data = np.loadtxt(", 
      "                  #'/home/flgomez10/lum-mass/data/MD_3840_Planck1/BDM/test.dat',", 
      "                  '/home/flgomez10/lum-mass/data/MD_3840_Planck1/BDM/reduced_catshortV_007.dat',", 
      "              # Reduce the memory usage from 'float64'(default) to 'float32'", 
      "                  'float32',", 
      "                  usecols=(0,1,2,3), skiprows=17)", 
      "# To create a little test catalog", 
      "# use the command \"head\" in terminal to append ", 
      "# just a few lines from the original catalog", 
      "# $ head -n10000 file.txt >> newfile.txt", 
      "", 
      "x0 = 0", 
      "dx = 50", 
      "", 
      "index = np.where(", 
      "                 ( data[:,0] >= x0 ) & ", 
      "                 ( data[:,0] <  x0+dx ) ", 
      "                 )", 
      "", 
      "slice = np.zeros([index[0].size,2])", 
      "", 
      "j=0", 
      "for i in index[0]:", 
      "    slice[j,0]=data[i,1] # Y coordinate of the halo", 
      "    slice[j,1]=data[i,2] # Z coordinate of the halo", 
      "    j+=1", 
      "plt.plot(slice[:,0],slice[:,1],'k,')", 
      "", 
      "plt.show()"
     ], 
     "language": "python", 
     "outputs": [], 
     "prompt_number": 1
    }, 
    {
     "cell_type": "code", 
     "collapsed": true, 
     "input": [
      "x0 = 0", 
      "dx = 15", 
      "", 
      "index = np.where(", 
      "                 ( data[:,0] >= x0 ) & ", 
      "                 ( data[:,0] <  x0+dx ) ", 
      "                 )", 
      "", 
      "slice = np.zeros([index[0].size,2])", 
      "", 
      "j=0", 
      "for i in index[0]:", 
      "    slice[j,0]=data[i,1] # Y coordinate of the halo", 
      "    slice[j,1]=data[i,2] # Z coordinate of the halo", 
      "    j+=1", 
      "plt.plot(slice[:,0],slice[:,1],'k,')", 
      "plt.title(\"Slice of x in range (0,15) Mpc h-1\")", 
      "plt.xlabel(\"Mpc h-1\")", 
      "plt.ylabel(\"Mpc h-1\")", 
      "plt.show()"
     ], 
     "language": "python", 
     "outputs": [], 
     "prompt_number": 6
    }, 
    {
     "cell_type": "code", 
     "collapsed": true, 
     "input": [], 
     "language": "python", 
     "outputs": []
    }
   ]
  }
 ]
}